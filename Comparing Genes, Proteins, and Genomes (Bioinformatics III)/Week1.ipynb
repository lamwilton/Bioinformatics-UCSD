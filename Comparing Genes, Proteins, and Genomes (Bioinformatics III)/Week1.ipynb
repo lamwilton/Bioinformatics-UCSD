{
 "cells": [
  {
   "cell_type": "markdown",
   "metadata": {
    "collapsed": true,
    "pycharm": {
     "name": "#%% md\n"
    }
   },
   "source": [
    "Code Challenge: Solve the Change Problem. The DPChange pseudocode is reproduced below for your convenience.<br>\n",
    "\n",
    "Input: An integer money and an array Coins = (coin1, ..., coind).<br>\n",
    "Output: The minimum number of coins with denominations Coins that changes money.<br>\n",
    "\n",
    "   DPChange(money, Coins)\n",
    "      MinNumCoins(0) ← 0\n",
    "      for m ← 1 to money\n",
    "         MinNumCoins(m) ← ∞\n",
    "         for i ← 0 to |Coins| - 1\n",
    "            if m ≥ coini\n",
    "               if MinNumCoins(m - coini) + 1 < MinNumCoins(m)\n",
    "                  MinNumCoins(m) ← MinNumCoins(m - coini) + 1\n",
    "      output MinNumCoins(money)\n",
    "\n",
    "Sample Input:\n",
    "\n",
    "    40\n",
    "    50,25,20,10,5,1\n",
    "Sample Output:\n",
    "\n",
    "    2"
   ]
  },
  {
   "cell_type": "code",
   "execution_count": 2,
   "outputs": [
    {
     "data": {
      "text/plain": "3545"
     },
     "execution_count": 2,
     "metadata": {},
     "output_type": "execute_result"
    }
   ],
   "source": [
    "def dp_change(money, coins):\n",
    "    min_num_coins = [0]\n",
    "    for m in range(1, money + 1):\n",
    "        min_num_coins.append(2 ** 32)\n",
    "        for i in range(len(coins)):\n",
    "            if m >= coins[i]:\n",
    "                if min_num_coins[m - coins[i]] + 1 < min_num_coins[m]:\n",
    "                    min_num_coins[m] = min_num_coins[m - coins[i]] + 1\n",
    "    return min_num_coins[money]\n"
   ],
   "metadata": {
    "collapsed": false,
    "pycharm": {
     "name": "#%%\n"
    }
   }
  }
 ],
 "metadata": {
  "kernelspec": {
   "display_name": "Python 3",
   "language": "python",
   "name": "python3"
  },
  "language_info": {
   "codemirror_mode": {
    "name": "ipython",
    "version": 2
   },
   "file_extension": ".py",
   "mimetype": "text/x-python",
   "name": "python",
   "nbconvert_exporter": "python",
   "pygments_lexer": "ipython2",
   "version": "2.7.6"
  }
 },
 "nbformat": 4,
 "nbformat_minor": 0
}