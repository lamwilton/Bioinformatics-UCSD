{
 "cells": [
  {
   "cell_type": "markdown",
   "source": [
    "Graded Code Challenge (Optional): Solve the Eulerian Cycle Problem.<br>\n",
    "     Input: The adjacency list of an Eulerian directed graph.<br>\n",
    "     Output: An Eulerian cycle in this graph.\n",
    "\n",
    "Sample Input:\n",
    "\n",
    "    0 -> 3\n",
    "    1 -> 0\n",
    "    2 -> 1,6\n",
    "    3 -> 2\n",
    "    4 -> 2\n",
    "    5 -> 4\n",
    "    6 -> 5,8\n",
    "    7 -> 9\n",
    "    8 -> 7\n",
    "    9 -> 6\n",
    "Sample Output:\n",
    "\n",
    "    2->1->0->3->2->6->8->7->9->6->5->4->2"
   ],
   "metadata": {
    "collapsed": false,
    "pycharm": {
     "name": "#%% md\n"
    }
   }
  },
  {
   "cell_type": "code",
   "execution_count": null,
   "metadata": {
    "collapsed": true
   },
   "outputs": [],
   "source": [
    "import sys\n",
    "from collections import defaultdict\n",
    "\n",
    "def parsing(lines):\n",
    "    graph = dict((line.strip().split(' -> ') for line in lines))\n",
    "    for key in graph:\n",
    "        graph[key] = graph[key].split(',')\n",
    "    graph = dict([int(key), list(map(int, value))] for key, value in graph.items())\n",
    "    return graph\n",
    "\n",
    "def hierholzer(graph):\n",
    "    \"\"\"\n",
    "    https://www.geeksforgeeks.org/hierholzers-algorithm-directed-graph/\n",
    "    :param graph:\n",
    "    :return:\n",
    "    \"\"\"\n",
    "    if len(graph) == 0: # Empty\n",
    "        return\n",
    "\n",
    "    degree = defaultdict(int)\n",
    "    for i in range(len(graph)):\n",
    "        degree[i] = len(graph[i])\n",
    "\n",
    "    curr_stack = []\n",
    "    circuit = []\n",
    "\n",
    "    curr_node = 0  # Start from 0\n",
    "    curr_stack.append(curr_node)\n",
    "\n",
    "    while len(curr_stack) > 0: # While stack is not empty\n",
    "        if degree[curr_node] > 0:\n",
    "            curr_stack.append(curr_node)\n",
    "            next_node = graph[curr_node].pop() # Remove edge\n",
    "            degree[curr_node] -= 1\n",
    "            curr_node = next_node\n",
    "\n",
    "        else:\n",
    "            circuit.append(curr_node)\n",
    "            curr_node = curr_stack.pop()\n",
    "    return circuit\n",
    "\n",
    "\n",
    "if __name__ == '__main__':\n",
    "    lines = sys.stdin.read().splitlines()\n",
    "    graph = parsing(lines)\n",
    "    result = hierholzer(graph)\n",
    "    for i in reversed(range(0, len(result))):\n",
    "        print(result[i], end = \"\")\n",
    "        if i:\n",
    "            print(\"->\", end = \"\")\n"
   ]
  }
 ],
 "metadata": {
  "kernelspec": {
   "display_name": "Python 3",
   "language": "python",
   "name": "python3"
  },
  "language_info": {
   "codemirror_mode": {
    "name": "ipython",
    "version": 2
   },
   "file_extension": ".py",
   "mimetype": "text/x-python",
   "name": "python",
   "nbconvert_exporter": "python",
   "pygments_lexer": "ipython2",
   "version": "2.7.6"
  }
 },
 "nbformat": 4,
 "nbformat_minor": 0
}