{
 "cells": [
  {
   "cell_type": "markdown",
   "source": [
    "Cyclopeptide Scoring Problem: Compute the score of a cyclic peptide against a spectrum.\n",
    "\n",
    "Input: An amino acid string Peptide and a collection of integers Spectrum.<br>\n",
    "Output: The score of Peptide against Spectrum, Score(Peptide, Spectrum).<br>\n",
    "Code Challenge: Solve the Cyclopeptide Scoring Problem.\n",
    "\n",
    "Sample Input:\n",
    "\n",
    "    NQEL\n",
    "    0 99 113 114 128 227 257 299 355 356 370 371 484\n",
    "Sample Output:\n",
    "\n",
    "    11"
   ],
   "metadata": {
    "collapsed": false,
    "pycharm": {
     "name": "#%% md\n"
    }
   }
  },
  {
   "cell_type": "code",
   "execution_count": 2,
   "metadata": {
    "collapsed": true,
    "pycharm": {
     "name": "#%%\n"
    }
   },
   "outputs": [],
   "source": [
    "def cyclospectrum(peptide):\n",
    "\n",
    "    def subpeptides(peptide):\n",
    "        l = len(peptide)\n",
    "        ls = []\n",
    "        looped = peptide + peptide\n",
    "        for start in range(0, l):\n",
    "            for length in range(1, l):\n",
    "                ls.append((looped[start:start + length]))\n",
    "        ls.append(peptide)\n",
    "        return ls\n",
    "\n",
    "    masses = {'A' : 71,\n",
    "          'R' : 156,\n",
    "          'N' : 114,\n",
    "          'D' : 115,\n",
    "          'C' : 103,\n",
    "          'E' : 129,\n",
    "          'Q' : 128,\n",
    "          'G' : 57,\n",
    "          'H' : 137,\n",
    "          'I' : 113,\n",
    "          'L' : 113,\n",
    "          'K' : 128,\n",
    "          'M' : 131,\n",
    "          'F' : 147,\n",
    "          'P' : 97,\n",
    "          'S' : 87,\n",
    "          'T' : 101,\n",
    "          'W' : 186,\n",
    "          'Y' : 163,\n",
    "          'V' : 99,\n",
    "          'X' : 0     #  for unknown amino acids\n",
    "          } # dictionary of amino acids 'aa' and their monoisotopic mass\n",
    "\n",
    "    subpeptides = subpeptides(peptide)\n",
    "    result = [0]\n",
    "    for item in subpeptides:\n",
    "        mass = 0\n",
    "        for aa in item:\n",
    "            mass += masses[aa]\n",
    "        result.append(mass)\n",
    "\n",
    "    final_result = sorted(result)\n",
    "    return final_result\n",
    "\n",
    "\n",
    "def scoring(peptide, spectrum: str):\n",
    "    exp = list(map(int, spectrum.split(\" \")))\n",
    "    theo = cyclospectrum(peptide)\n",
    "    score = 0\n",
    "    for item in exp:\n",
    "        if item in theo:\n",
    "            score += 1\n",
    "            theo.remove(item)\n",
    "    return score"
   ]
  },
  {
   "cell_type": "markdown",
   "source": [
    "Code Challenge: Compute the score of a linear peptide with respect to a spectrum.\n",
    "\n",
    "Input: An amino acid string Peptide and a collection of integers Spectrum.<br>\n",
    "Output: The linear score of Peptide with respect to Spectrum, LinearScore(Peptide, Spectrum).\n",
    "\n",
    "Sample Input:\n",
    "\n",
    "    NQEL\n",
    "    0 99 113 114 128 227 257 299 355 356 370 371 484\n",
    "Sample Output:\n",
    "\n",
    "    8"
   ],
   "metadata": {
    "collapsed": false,
    "pycharm": {
     "name": "#%% md\n"
    }
   }
  },
  {
   "cell_type": "code",
   "execution_count": 6,
   "outputs": [
    {
     "data": {
      "text/plain": "176"
     },
     "execution_count": 6,
     "metadata": {},
     "output_type": "execute_result"
    }
   ],
   "source": [
    "def linear_spectrum(peptide):\n",
    "    masses = {'A' : 71,\n",
    "          'R' : 156,\n",
    "          'N' : 114,\n",
    "          'D' : 115,\n",
    "          'C' : 103,\n",
    "          'E' : 129,\n",
    "          'Q' : 128,\n",
    "          'G' : 57,\n",
    "          'H' : 137,\n",
    "          'I' : 113,\n",
    "          'L' : 113,\n",
    "          'K' : 128,\n",
    "          'M' : 131,\n",
    "          'F' : 147,\n",
    "          'P' : 97,\n",
    "          'S' : 87,\n",
    "          'T' : 101,\n",
    "          'W' : 186,\n",
    "          'Y' : 163,\n",
    "          'V' : 99,\n",
    "          'X' : 0     #  for unknown amino acids\n",
    "          } # dictionary of amino acids 'aa' and their monoisotopic mass\n",
    "    alphabet = masses.keys()\n",
    "    prefix_mass = [0]\n",
    "    for i in range(1, len(peptide) + 1):\n",
    "        for s in alphabet:\n",
    "            if s == peptide[i - 1]:\n",
    "                prefix_mass.append(prefix_mass[i - 1] + masses[s])\n",
    "    linear_spectrum = [0]\n",
    "    for i in range(0, len(peptide)):\n",
    "        for j in range(i + 1, len(peptide) + 1):\n",
    "            linear_spectrum.append(prefix_mass[j] - prefix_mass[i])\n",
    "    return sorted(linear_spectrum)\n",
    "\n",
    "\n",
    "def linear_score(peptide, spectrum: str):\n",
    "    exp = list(map(int, spectrum.split(\" \")))\n",
    "    theo = linear_spectrum(peptide)\n",
    "    score = 0\n",
    "    for item in exp:\n",
    "        if item in theo:\n",
    "            score += 1\n",
    "            theo.remove(item)\n",
    "    return score\n"
   ],
   "metadata": {
    "collapsed": false,
    "pycharm": {
     "name": "#%%\n"
    }
   }
  }
 ],
 "metadata": {
  "kernelspec": {
   "display_name": "Python 3",
   "language": "python",
   "name": "python3"
  },
  "language_info": {
   "codemirror_mode": {
    "name": "ipython",
    "version": 2
   },
   "file_extension": ".py",
   "mimetype": "text/x-python",
   "name": "python",
   "nbconvert_exporter": "python",
   "pygments_lexer": "ipython2",
   "version": "2.7.6"
  }
 },
 "nbformat": 4,
 "nbformat_minor": 0
}