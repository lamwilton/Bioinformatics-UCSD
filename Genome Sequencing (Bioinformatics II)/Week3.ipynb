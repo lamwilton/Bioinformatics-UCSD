{
 "cells": [
  {
   "cell_type": "markdown",
   "source": [
    "The following problem asks you to find the translation of an RNA string into an amino acid string.\n",
    "\n",
    "Protein Translation Problem: Translate an RNA string into an amino acid string.\n",
    "\n",
    "Input: An RNA string Pattern and the array GeneticCode.<br>\n",
    "Output: The translation of Pattern into an amino acid string Peptide.<br>\n",
    "Code Challenge: Solve the Protein Translation Problem.\n",
    "\n",
    "Notes:\n",
    "\n",
    "The \"Stop\" codon should not be translated, as shown in the sample below.<br>\n",
    "For your convenience, we provide a downloadable RNA codon table indicating which codons encode which amino acids.\n",
    "\n",
    "Sample Input:\n",
    "\n",
    "    AUGGCCAUGGCGCCCAGAACUGAGAUCAAUAGUACCCGUAUUAACGGGUGA\n",
    "Sample Output:\n",
    "\n",
    "    MAMAPRTEINSTRING"
   ],
   "metadata": {
    "collapsed": false,
    "pycharm": {
     "name": "#%% md\n"
    }
   }
  },
  {
   "cell_type": "code",
   "execution_count": 5,
   "metadata": {
    "collapsed": true,
    "pycharm": {
     "name": "#%%\n"
    }
   },
   "outputs": [
    {
     "data": {
      "text/plain": "'MIVRIQDRALWLWASRIVQTAVPRAIKPKALLNQTLLRNKASHDPCSILGPRRSALILFLLVPSLIICVLLPPKDMISGNPPLTPLPRAADSVALPNTRSTAEDLTEHSDLMGHASSEEVACSDGAASTLLGAVRSSSRIKGGGYHKNKLALSFRIAVQTLSSTDVKRAISPSRPRGGTLIRILRPQLSFHYHRNNIAYKYFVGNSIFAAPGIVTLYPGTSVQVLLRLSRLHFMLLSMRGQRSETHYSNLGRMSSPTLFSGGMSWYSDGLMRSVPGLVTERPWGYCLGDLITRLCRVFTIPLEPSCLLQQLRTRIQLLDVQLPWKSLAARDAKGRAHGSDDAWGPTFRRSKFPELRPRPCSFDGPLTSSLVVARLVTPPNTPTVIYNSRGSHFIIAPWVYRLGVLCHRACVRTHMLPEDTIRVKWLYLEIGGGCYTPQSRAFKPCVAKPTFVHQDDTEESTRKRPTSGKAVRPTKHLSPLAAVLGQPAVLTCYRVRFCKCQVLGLSREGTTRVTCKYTRQTRWNLGIPTEGPSRHESQALPGNPQPSIHSGISSMARVTTYSPTNGTGDMAHIDLIGIGLMARVYHHKHASKFVMDKDNIKQLSSRFSDFHHNGNDVLPGVFDGEATPKSRWCLTLRIETGASFIDNVSAIAGISSIVPGTINEYRFGPISQRYREVPYWSGYRPAQCRHGDVKPSKGGTLPLLRELHIGTFAARLLLCFILIILKKLTDGRGKPYVASSTVSNLHVNLAGEFTLSVRPSIIEWSYKVRVVKDKDLATRRYSQGSGLAGKRSFWGKTTYRYLNGRGHLDRDRVPAGILLGGEPIRHWRPPTCVSTCSRSTSHPTPGHMTEGGGCPIREGVGSLGLLRWDRFLTAHNCPKRPGHKLKLVHIYSLQRIRDQFGSSGPKLYLPSLHLGDAYRIPCRTPVKASHSVTARNGVAFRFRTFTYNSTGSIISSEGLETPAGLQPGRKPPDEEREAWSGVPLSYFMSLQDPHARSASAARLPLQHLWSRLQVTTGNLEYNISSQPEVLGSRTLCRPDPSQYNSSCVVELPANSGLLFMDWTAPLIRDSGILTKLGDNTYLPHHVCPRINPISNPPACFAMAMVYALNNAPIPATERLVLFMNSGATVRDSWHGSTRDRLRVPRFTAWVMPERCARSVVAAYRRLAELISSFCVPRLGPPHPRQDYEPESEQGPQLLSNFTLILAICQYAARESPYPETRSQFGMVVSVTLISCIISGVATSVGWSFVKISNVLEIMHWSTGCRNEPVGDKRSSECEKYCMCVKNGLWSMITPRLHRDASEIPLICMCHGSQLKTEGGHPTRGVLMVLVSKDPSQARKHYIIGSVNTTCVGRVKGYYPGLGKFHFSDSLTYLDLELSQLPRTHADGDGTLAVPSGGSDCRAFCWIIDRHISYGPEGPNLRISSVKITTKMLGKQSGLEYKNTPIGLQFRVDASWLRLRDSADLKYSECNSTDARRTPVSLGSIQQRARMEGASNPERDCKKLPILCGHPSSTARSQYAVAHNLKLRSRSECFNNLLPSPTFFFACQATTPRRATPHTLRTSTDFTPRERHFRWGNWAGVMVHAQNAFNLRRSLEIHHEPLKGTHKIGLLSLSILIVPLNGHRRKFTNHPSLMCGPLCTRLEPYQFPKLQRTSWGRCFPVLAGPSASNFGNATCYFFTNITGIILFCVKIMEITMRSQQVRYGPSQCCNALTSVIYIICGSTLFREKFASGLRCQDPLLGSGIQPTRNRRSSFNAARGIIDHAELLAASADVGCQQPWNARRLLSMGPGCFADVPSLDPVTHRRCTCDLSTSARCLLASSLIKTTYCSANHRLGKAPSIKPAEYQWILLDPSRPIPCFRDGSGILPDPSRYLIIMVISYSTLERYQEARCRIKRSISPRYSPSNLVSIFLSVRGEWKIIKSVCMGTGRVGTAGGNDRLEIPRIWFDALCTCFLSSECAVGICEGHSREDRKLPLIVRLCPRNDLPSTSKNKVHVALMQPVPSSRDVLIAGVRSFGQQTNCSNEIWEHNWFHFPPPSGVCLGIPSRKPRAAKTALREYVQGRCVQLLKNSGNSSSYGLIRGSAVVDSYSTRRPCPYSPTRVNLRLSPGLLFAHRDQVCPLNMGLVVCNSRTLVMNSNSRVVPITSFGNLFPTDSPARYSKWSRSPRPALWEPITTSSYMDILSGYATTNAQTLHTGVPEDCSWASAYSILSSISSLVGIPLWCVYVGMNELVSHVLSDRDRSDAPHSPNFDSKRLGDMVEHRLIGRCGVVCKSDVMSIYSYRNPRKCWPGIGVMQANKDTPDTAGTPALFISTLRFTRPGLVSLFRFGCSLILSVNSGCQSNARYSPPTSIAHIPVRAVLSDCEITASYSAEKANTSSRGLRGRYKSLYPMRAGPYYSLVRLTSLDCWGLAISVRVIRALARRIVSLAIVFETATCGSHTFRQARRDYCRCQITVDPYTGDPVEGIKVLQIAALLCRLAGAYQLKMEPSLNLPILKYKQKFKRNLGLEVPRNGRHNCPFSFVMRLIGTLLMYKSLHNYDSVPAGSRAAHCCPEPTSGLQLTLNSDDTYREVPDRSEYNSMVATLISRSGLRHAGSDLFPAGQGEHKLPMWSSLEYYESRGPLRLAANLTRVFYGRTASSTKSPCAFVFLRGGSARTVGLALATKSLPWVIKLNAMADKRQPADDSGRLRRNLRDRLCATLLALPDRGRGTESCAPVHAYHCEPATPFLDMYLYLSVPMKWNPLWVSPSSTSLDGRITSPSCQARRSFIRACPLRRLLAPSTLDLALTRERVNGNVLHYMHFFTTGLPKPNRDNGPSALRRYFGLASDRRGQVYSVLMRWPHVLEHLSGSMRLSGHSEQTERLPCKQTIRLIYRVYLATNGATGQLRDSYLDCLCGVVTRGRWQRFRVLSGACLRVGPAISDEGAPGECCDPVAKYSRHKPRNIFVVPRILLIWRIVGAEVSLSLGSSFSVIRAAMLQLRWGEKQVPDRWASQICGHESWFHRLAAPLICICSWSRPSSWRWVSVLAPRDPPRTLSRSFLKYGQVPEKSHSTCRILKRPKAITDGRVHALASRIARAKMSISCIVDQQDQLAQARVPRELTLLAVQDGSSISNFVSTLLRGLVSSTRPRMIMRWPPFNPRDVVISLGPYEDPHIAVIPRCTIEQPSSG'"
     },
     "execution_count": 5,
     "metadata": {},
     "output_type": "execute_result"
    }
   ],
   "source": [
    "def translation(rna):\n",
    "    result = \"\"\n",
    "    dictionary = {\"UUU\":\"F\", \"UUC\":\"F\", \"UUA\":\"L\", \"UUG\":\"L\",\n",
    "    \"UCU\":\"S\", \"UCC\":\"S\", \"UCA\":\"S\", \"UCG\":\"S\",\n",
    "    \"UAU\":\"Y\", \"UAC\":\"Y\", \"UAA\":\"\", \"UAG\":\"\",\n",
    "    \"UGU\":\"C\", \"UGC\":\"C\", \"UGA\":\"\", \"UGG\":\"W\",\n",
    "    \"CUU\":\"L\", \"CUC\":\"L\", \"CUA\":\"L\", \"CUG\":\"L\",\n",
    "    \"CCU\":\"P\", \"CCC\":\"P\", \"CCA\":\"P\", \"CCG\":\"P\",\n",
    "    \"CAU\":\"H\", \"CAC\":\"H\", \"CAA\":\"Q\", \"CAG\":\"Q\",\n",
    "    \"CGU\":\"R\", \"CGC\":\"R\", \"CGA\":\"R\", \"CGG\":\"R\",\n",
    "    \"AUU\":\"I\", \"AUC\":\"I\", \"AUA\":\"I\", \"AUG\":\"M\",\n",
    "    \"ACU\":\"T\", \"ACC\":\"T\", \"ACA\":\"T\", \"ACG\":\"T\",\n",
    "    \"AAU\":\"N\", \"AAC\":\"N\", \"AAA\":\"K\", \"AAG\":\"K\",\n",
    "    \"AGU\":\"S\", \"AGC\":\"S\", \"AGA\":\"R\", \"AGG\":\"R\",\n",
    "    \"GUU\":\"V\", \"GUC\":\"V\", \"GUA\":\"V\", \"GUG\":\"V\",\n",
    "    \"GCU\":\"A\", \"GCC\":\"A\", \"GCA\":\"A\", \"GCG\":\"A\",\n",
    "    \"GAU\":\"D\", \"GAC\":\"D\", \"GAA\":\"E\", \"GAG\":\"E\",\n",
    "    \"GGU\":\"G\", \"GGC\":\"G\", \"GGA\":\"G\", \"GGG\":\"G\"}\n",
    "    for i in range(0, len(rna), 3):\n",
    "        result += dictionary[rna[i:i + 3]]\n",
    "    return result"
   ]
  },
  {
   "cell_type": "markdown",
   "source": [
    "Peptide Encoding Problem: Find substrings of a genome encoding a given amino acid sequence.\n",
    "\n",
    "Input: A DNA string Text, an amino acid string Peptide, and the array GeneticCode.<br>\n",
    "Output: All substrings of Text encoding Peptide (if any such substrings exist).<br>\n",
    "Code Challenge: Solve the Peptide Encoding Problem. Click here for the RNA codon table corresponding to the array GeneticCode.\n",
    "\n",
    "Note: The solution may contain repeated strings if the same string occurs more than once as a substring of Text and encodes Peptide.\n",
    "\n",
    "Sample Input:\n",
    "\n",
    "    ATGGCCATGGCCCCCAGAACTGAGATCAATAGTACCCGTATTAACGGGTGA\n",
    "    MA\n",
    "Sample Output:\n",
    "\n",
    "    ATGGCC\n",
    "    GGCCAT\n",
    "    ATGGCC"
   ],
   "metadata": {
    "collapsed": false,
    "pycharm": {
     "name": "#%% md\n"
    }
   }
  },
  {
   "cell_type": "code",
   "execution_count": 24,
   "outputs": [
    {
     "name": "stdout",
     "output_type": "stream",
     "text": [
      "ACATACAATACTCAAATGATCTGGACA\n",
      "ACATACAATACTCAGATGATTTGGACC\n",
      "ACCTATAACACGCAGATGATCTGGACG\n",
      "ACCTACAACACCCAAATGATCTGGACA\n",
      "ACGTACAACACGCAGATGATCTGGACC\n",
      "ACTTATAACACACAGATGATTTGGACG\n",
      "ACTTATAATACCCAGATGATTTGGACG\n",
      "ACTTACAACACACAAATGATTTGGACT\n",
      "AGTCCATATCATCTGAGTATTATATGT\n",
      "CGTCCAAATCATTTGCGTGTTGTATGT\n",
      "TGTCCAGATCATCTGGGTATTGTATGT\n",
      "GGTCCAGATCATCTGCGTATTGTATGT\n",
      "CGTCCAGATCATCTGAGTGTTATAGGT\n",
      "TGTCCATATCATTTGAGTATTGTAGGT\n",
      "TGTCCATATCATCTGGGTATTATACGT\n",
      "CGTCCATATCATCTGGGTATTATACGT\n",
      "GGTCCAAATCATCTGCGTATTATAAGT\n",
      "GGTCCATATCATTTGTGTGTTGTAAGT\n",
      "CGTCCAGATCATCTGCGTGTTGTAAGT\n",
      "TGTCCATATCATTTGCGTATTGTAAGT\n"
     ]
    },
    {
     "data": {
      "text/plain": "['ACATACAATACTCAAATGATCTGGACA',\n 'ACATACAATACTCAGATGATTTGGACC',\n 'ACCTATAACACGCAGATGATCTGGACG',\n 'ACCTACAACACCCAAATGATCTGGACA',\n 'ACGTACAACACGCAGATGATCTGGACC',\n 'ACTTATAACACACAGATGATTTGGACG',\n 'ACTTATAATACCCAGATGATTTGGACG',\n 'ACTTACAACACACAAATGATTTGGACT',\n 'AGTCCATATCATCTGAGTATTATATGT',\n 'CGTCCAAATCATTTGCGTGTTGTATGT',\n 'TGTCCAGATCATCTGGGTATTGTATGT',\n 'GGTCCAGATCATCTGCGTATTGTATGT',\n 'CGTCCAGATCATCTGAGTGTTATAGGT',\n 'TGTCCATATCATTTGAGTATTGTAGGT',\n 'TGTCCATATCATCTGGGTATTATACGT',\n 'CGTCCATATCATCTGGGTATTATACGT',\n 'GGTCCAAATCATCTGCGTATTATAAGT',\n 'GGTCCATATCATTTGTGTGTTGTAAGT',\n 'CGTCCAGATCATCTGCGTGTTGTAAGT',\n 'TGTCCATATCATTTGCGTATTGTAAGT']"
     },
     "execution_count": 24,
     "metadata": {},
     "output_type": "execute_result"
    }
   ],
   "source": [
    "from itertools import product\n",
    "\n",
    "def reverse_translate(peptide):\n",
    "    aminoacids = {\n",
    "    \"M\": [\"ATG\"],\n",
    "    \"I\": [\"ATA\", \"ATC\", \"ATT\"],\n",
    "    \"A\": [\"GCT\", \"GCA\", \"GCC\", \"GCG\"],\n",
    "    \"S\": [\"TCA\", \"TCC\", \"TCG\", \"TCT\"],\n",
    "    \"F\": [\"TTC\", \"TTT\"],\n",
    "    \"P\": [\"CCA\", \"CCC\", \"CCG\", \"CCT\"],\n",
    "    \"C\": [\"TGC\", \"TGT\"],\n",
    "    \"K\": [\"AAG\", \"AAA\"],\n",
    "    \"H\": [\"CAT\", \"CAC\"],\n",
    "    \"D\": [\"GAT\", \"GAC\"],\n",
    "    \"V\": [\"GTA\", \"GTC\", \"GTG\", \"GTT\"],\n",
    "    \"L\": [\"TTG\", \"TTA\", \"CTA\", \"CTC\", \"CTG\", \"CTT\"],\n",
    "    \"W\": [\"TGG\"],\n",
    "    \"T\": [\"ACA\", \"ACC\", \"ACG\", \"ACT\"],\n",
    "    \"R\": [\"AGA\", \"AGG\", \"CGA\", \"CGG\",\"CGT\", \"CGC\"],\n",
    "    \"Y\": [\"TAT\", \"TAC\"],\n",
    "    \"N\": [\"AAC\", \"AAT\"],\n",
    "    \"Q\": [\"CAA\", \"CAG\"],\n",
    "    \"E\": [\"GAA\", \"GAG\"],\n",
    "    \"G\": [\"GGA\", \"GGC\", \"GGT\", \"GGG\"],\n",
    "    \"*\": [\"TAA\", \"TAG\", \"TGA\"]\n",
    "    }\n",
    "    result = []\n",
    "    for i in range(len(peptide)):\n",
    "        result.append(aminoacids[peptide[i]])\n",
    "    result2 = list(map(lambda x: \"\".join(x), product(*result)))\n",
    "    return result2\n",
    "\n",
    "\n",
    "def reverse_complement(dna):\n",
    "    result = \"\"\n",
    "    for i in range(len(dna)):\n",
    "        if dna[i] == \"A\":\n",
    "            result += \"T\"\n",
    "        elif dna[i] == \"T\":\n",
    "            result += \"A\"\n",
    "        elif dna[i] == \"C\":\n",
    "            result += \"G\"\n",
    "        elif dna[i] == \"G\":\n",
    "            result += \"C\"\n",
    "    return result[::-1]\n",
    "\n",
    "\n",
    "def main(text, peptide):\n",
    "    result = reverse_translate(peptide)\n",
    "    result.extend(list(map(reverse_complement, result)))\n",
    "    final_result = []\n",
    "    for item in result:\n",
    "        n = text.count(item)\n",
    "        for i in range(n):\n",
    "            final_result.append(item)\n",
    "    # Print answer\n",
    "    for item in final_result:\n",
    "        print(item)\n",
    "    return final_result"
   ],
   "metadata": {
    "collapsed": false,
    "pycharm": {
     "name": "#%%\n"
    }
   }
  },
  {
   "cell_type": "markdown",
   "source": [
    "Generating Theoretical Spectrum Problem: Generate the theoretical spectrum of a cyclic peptide.\n",
    "\n",
    "Input: An amino acid string Peptide.<br>\n",
    "Output: Cyclospectrum(Peptide).<br>\n",
    "Code Challenge: Solve the Generating Theoretical Spectrum Problem.\n",
    "\n",
    "Note: An obvious approach for solving the Generating Theoretical Spectrum Problem would be to construct a list containing all subpeptides of Peptide, and then find the mass of each subpeptide by adding the integer masses of its constituent amino acids. This approach will work, but you may like to check out Charging Station: Generating the Theoretical Spectrum of a Peptide to see a more elegant algorithm that applies to both linear and cyclic peptides.\n",
    "\n",
    "Sample Input:\n",
    "\n",
    "    LEQN\n",
    "Sample Output:\n",
    "\n",
    "    0 113 114 128 129 227 242 242 257 355 356 370 371 484"
   ],
   "metadata": {
    "collapsed": false,
    "pycharm": {
     "name": "#%% md\n"
    }
   }
  },
  {
   "cell_type": "code",
   "execution_count": 3,
   "outputs": [
    {
     "data": {
      "text/plain": "'0 57 57 97 99 113 115 128 129 129 131 156 156 163 163 163 170 212 213 213 214 220 241 257 260 260 262 285 292 294 298 311 319 326 342 349 370 375 376 376 377 393 413 416 423 423 427 454 470 473 474 474 480 489 505 505 508 522 526 531 583 583 583 586 586 588 605 617 630 633 634 636 637 637 640 643 685 687 701 714 734 739 742 746 746 762 765 768 793 796 799 800 800 803 829 843 850 857 875 893 897 897 898 902 924 928 928 932 954 958 959 959 963 981 999 1006 1013 1027 1053 1056 1056 1057 1060 1063 1088 1091 1094 1110 1110 1114 1117 1122 1142 1155 1169 1171 1213 1216 1219 1219 1220 1222 1223 1226 1239 1251 1268 1270 1270 1273 1273 1273 1325 1330 1334 1348 1351 1351 1367 1376 1382 1382 1383 1386 1402 1429 1433 1433 1440 1443 1463 1479 1480 1480 1481 1486 1507 1514 1530 1537 1545 1558 1562 1564 1571 1594 1596 1596 1599 1615 1636 1642 1643 1643 1644 1686 1693 1693 1693 1700 1700 1725 1727 1727 1728 1741 1743 1757 1759 1799 1799 1856'"
     },
     "execution_count": 3,
     "metadata": {},
     "output_type": "execute_result"
    }
   ],
   "source": [
    "def cyclospectrum(peptide):\n",
    "\n",
    "    def subpeptides(peptide):\n",
    "        l = len(peptide)\n",
    "        ls = []\n",
    "        looped = peptide + peptide\n",
    "        for start in range(0, l):\n",
    "            for length in range(1, l):\n",
    "                ls.append((looped[start:start + length]))\n",
    "        ls.append(peptide)\n",
    "        return ls\n",
    "\n",
    "    masses = {'A' : 71,\n",
    "          'R' : 156,\n",
    "          'N' : 114,\n",
    "          'D' : 115,\n",
    "          'C' : 103,\n",
    "          'E' : 129,\n",
    "          'Q' : 128,\n",
    "          'G' : 57,\n",
    "          'H' : 137,\n",
    "          'I' : 113,\n",
    "          'L' : 113,\n",
    "          'K' : 128,\n",
    "          'M' : 131,\n",
    "          'F' : 147,\n",
    "          'P' : 97,\n",
    "          'S' : 87,\n",
    "          'T' : 101,\n",
    "          'W' : 186,\n",
    "          'Y' : 163,\n",
    "          'V' : 99,\n",
    "          'X' : 0     #  for unknown amino acids\n",
    "          } # dictionary of amino acids 'aa' and their monoisotopic mass\n",
    "\n",
    "    subpeptides = subpeptides(peptide)\n",
    "    result = [0]\n",
    "    for item in subpeptides:\n",
    "        mass = 0\n",
    "        for aa in item:\n",
    "            mass += masses[aa]\n",
    "        result.append(mass)\n",
    "\n",
    "    final_result = str(sorted(result)).replace(\", \", \" \").strip(\"[]\")\n",
    "    return final_result\n"
   ],
   "metadata": {
    "collapsed": false,
    "pycharm": {
     "name": "#%%\n"
    }
   }
  }
 ],
 "metadata": {
  "kernelspec": {
   "display_name": "Python 3",
   "language": "python",
   "name": "python3"
  },
  "language_info": {
   "codemirror_mode": {
    "name": "ipython",
    "version": 2
   },
   "file_extension": ".py",
   "mimetype": "text/x-python",
   "name": "python",
   "nbconvert_exporter": "python",
   "pygments_lexer": "ipython2",
   "version": "2.7.6"
  }
 },
 "nbformat": 4,
 "nbformat_minor": 0
}