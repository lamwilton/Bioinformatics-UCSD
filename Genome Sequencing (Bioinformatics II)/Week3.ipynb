{
 "cells": [
  {
   "cell_type": "markdown",
   "source": [
    "The following problem asks you to find the translation of an RNA string into an amino acid string.\n",
    "\n",
    "Protein Translation Problem: Translate an RNA string into an amino acid string.\n",
    "\n",
    "Input: An RNA string Pattern and the array GeneticCode.<br>\n",
    "Output: The translation of Pattern into an amino acid string Peptide.<br>\n",
    "Code Challenge: Solve the Protein Translation Problem.\n",
    "\n",
    "Notes:\n",
    "\n",
    "The \"Stop\" codon should not be translated, as shown in the sample below.<br>\n",
    "For your convenience, we provide a downloadable RNA codon table indicating which codons encode which amino acids.\n",
    "\n",
    "Sample Input:\n",
    "\n",
    "    AUGGCCAUGGCGCCCAGAACUGAGAUCAAUAGUACCCGUAUUAACGGGUGA\n",
    "Sample Output:\n",
    "\n",
    "    MAMAPRTEINSTRING"
   ],
   "metadata": {
    "collapsed": false,
    "pycharm": {
     "name": "#%% md\n"
    }
   }
  },
  {
   "cell_type": "code",
   "execution_count": 5,
   "metadata": {
    "collapsed": true,
    "pycharm": {
     "name": "#%%\n"
    }
   },
   "outputs": [
    {
     "data": {
      "text/plain": "'MIVRIQDRALWLWASRIVQTAVPRAIKPKALLNQTLLRNKASHDPCSILGPRRSALILFLLVPSLIICVLLPPKDMISGNPPLTPLPRAADSVALPNTRSTAEDLTEHSDLMGHASSEEVACSDGAASTLLGAVRSSSRIKGGGYHKNKLALSFRIAVQTLSSTDVKRAISPSRPRGGTLIRILRPQLSFHYHRNNIAYKYFVGNSIFAAPGIVTLYPGTSVQVLLRLSRLHFMLLSMRGQRSETHYSNLGRMSSPTLFSGGMSWYSDGLMRSVPGLVTERPWGYCLGDLITRLCRVFTIPLEPSCLLQQLRTRIQLLDVQLPWKSLAARDAKGRAHGSDDAWGPTFRRSKFPELRPRPCSFDGPLTSSLVVARLVTPPNTPTVIYNSRGSHFIIAPWVYRLGVLCHRACVRTHMLPEDTIRVKWLYLEIGGGCYTPQSRAFKPCVAKPTFVHQDDTEESTRKRPTSGKAVRPTKHLSPLAAVLGQPAVLTCYRVRFCKCQVLGLSREGTTRVTCKYTRQTRWNLGIPTEGPSRHESQALPGNPQPSIHSGISSMARVTTYSPTNGTGDMAHIDLIGIGLMARVYHHKHASKFVMDKDNIKQLSSRFSDFHHNGNDVLPGVFDGEATPKSRWCLTLRIETGASFIDNVSAIAGISSIVPGTINEYRFGPISQRYREVPYWSGYRPAQCRHGDVKPSKGGTLPLLRELHIGTFAARLLLCFILIILKKLTDGRGKPYVASSTVSNLHVNLAGEFTLSVRPSIIEWSYKVRVVKDKDLATRRYSQGSGLAGKRSFWGKTTYRYLNGRGHLDRDRVPAGILLGGEPIRHWRPPTCVSTCSRSTSHPTPGHMTEGGGCPIREGVGSLGLLRWDRFLTAHNCPKRPGHKLKLVHIYSLQRIRDQFGSSGPKLYLPSLHLGDAYRIPCRTPVKASHSVTARNGVAFRFRTFTYNSTGSIISSEGLETPAGLQPGRKPPDEEREAWSGVPLSYFMSLQDPHARSASAARLPLQHLWSRLQVTTGNLEYNISSQPEVLGSRTLCRPDPSQYNSSCVVELPANSGLLFMDWTAPLIRDSGILTKLGDNTYLPHHVCPRINPISNPPACFAMAMVYALNNAPIPATERLVLFMNSGATVRDSWHGSTRDRLRVPRFTAWVMPERCARSVVAAYRRLAELISSFCVPRLGPPHPRQDYEPESEQGPQLLSNFTLILAICQYAARESPYPETRSQFGMVVSVTLISCIISGVATSVGWSFVKISNVLEIMHWSTGCRNEPVGDKRSSECEKYCMCVKNGLWSMITPRLHRDASEIPLICMCHGSQLKTEGGHPTRGVLMVLVSKDPSQARKHYIIGSVNTTCVGRVKGYYPGLGKFHFSDSLTYLDLELSQLPRTHADGDGTLAVPSGGSDCRAFCWIIDRHISYGPEGPNLRISSVKITTKMLGKQSGLEYKNTPIGLQFRVDASWLRLRDSADLKYSECNSTDARRTPVSLGSIQQRARMEGASNPERDCKKLPILCGHPSSTARSQYAVAHNLKLRSRSECFNNLLPSPTFFFACQATTPRRATPHTLRTSTDFTPRERHFRWGNWAGVMVHAQNAFNLRRSLEIHHEPLKGTHKIGLLSLSILIVPLNGHRRKFTNHPSLMCGPLCTRLEPYQFPKLQRTSWGRCFPVLAGPSASNFGNATCYFFTNITGIILFCVKIMEITMRSQQVRYGPSQCCNALTSVIYIICGSTLFREKFASGLRCQDPLLGSGIQPTRNRRSSFNAARGIIDHAELLAASADVGCQQPWNARRLLSMGPGCFADVPSLDPVTHRRCTCDLSTSARCLLASSLIKTTYCSANHRLGKAPSIKPAEYQWILLDPSRPIPCFRDGSGILPDPSRYLIIMVISYSTLERYQEARCRIKRSISPRYSPSNLVSIFLSVRGEWKIIKSVCMGTGRVGTAGGNDRLEIPRIWFDALCTCFLSSECAVGICEGHSREDRKLPLIVRLCPRNDLPSTSKNKVHVALMQPVPSSRDVLIAGVRSFGQQTNCSNEIWEHNWFHFPPPSGVCLGIPSRKPRAAKTALREYVQGRCVQLLKNSGNSSSYGLIRGSAVVDSYSTRRPCPYSPTRVNLRLSPGLLFAHRDQVCPLNMGLVVCNSRTLVMNSNSRVVPITSFGNLFPTDSPARYSKWSRSPRPALWEPITTSSYMDILSGYATTNAQTLHTGVPEDCSWASAYSILSSISSLVGIPLWCVYVGMNELVSHVLSDRDRSDAPHSPNFDSKRLGDMVEHRLIGRCGVVCKSDVMSIYSYRNPRKCWPGIGVMQANKDTPDTAGTPALFISTLRFTRPGLVSLFRFGCSLILSVNSGCQSNARYSPPTSIAHIPVRAVLSDCEITASYSAEKANTSSRGLRGRYKSLYPMRAGPYYSLVRLTSLDCWGLAISVRVIRALARRIVSLAIVFETATCGSHTFRQARRDYCRCQITVDPYTGDPVEGIKVLQIAALLCRLAGAYQLKMEPSLNLPILKYKQKFKRNLGLEVPRNGRHNCPFSFVMRLIGTLLMYKSLHNYDSVPAGSRAAHCCPEPTSGLQLTLNSDDTYREVPDRSEYNSMVATLISRSGLRHAGSDLFPAGQGEHKLPMWSSLEYYESRGPLRLAANLTRVFYGRTASSTKSPCAFVFLRGGSARTVGLALATKSLPWVIKLNAMADKRQPADDSGRLRRNLRDRLCATLLALPDRGRGTESCAPVHAYHCEPATPFLDMYLYLSVPMKWNPLWVSPSSTSLDGRITSPSCQARRSFIRACPLRRLLAPSTLDLALTRERVNGNVLHYMHFFTTGLPKPNRDNGPSALRRYFGLASDRRGQVYSVLMRWPHVLEHLSGSMRLSGHSEQTERLPCKQTIRLIYRVYLATNGATGQLRDSYLDCLCGVVTRGRWQRFRVLSGACLRVGPAISDEGAPGECCDPVAKYSRHKPRNIFVVPRILLIWRIVGAEVSLSLGSSFSVIRAAMLQLRWGEKQVPDRWASQICGHESWFHRLAAPLICICSWSRPSSWRWVSVLAPRDPPRTLSRSFLKYGQVPEKSHSTCRILKRPKAITDGRVHALASRIARAKMSISCIVDQQDQLAQARVPRELTLLAVQDGSSISNFVSTLLRGLVSSTRPRMIMRWPPFNPRDVVISLGPYEDPHIAVIPRCTIEQPSSG'"
     },
     "execution_count": 5,
     "metadata": {},
     "output_type": "execute_result"
    }
   ],
   "source": [
    "def translation(rna):\n",
    "    result = \"\"\n",
    "    dictionary = {\"UUU\":\"F\", \"UUC\":\"F\", \"UUA\":\"L\", \"UUG\":\"L\",\n",
    "    \"UCU\":\"S\", \"UCC\":\"S\", \"UCA\":\"S\", \"UCG\":\"S\",\n",
    "    \"UAU\":\"Y\", \"UAC\":\"Y\", \"UAA\":\"\", \"UAG\":\"\",\n",
    "    \"UGU\":\"C\", \"UGC\":\"C\", \"UGA\":\"\", \"UGG\":\"W\",\n",
    "    \"CUU\":\"L\", \"CUC\":\"L\", \"CUA\":\"L\", \"CUG\":\"L\",\n",
    "    \"CCU\":\"P\", \"CCC\":\"P\", \"CCA\":\"P\", \"CCG\":\"P\",\n",
    "    \"CAU\":\"H\", \"CAC\":\"H\", \"CAA\":\"Q\", \"CAG\":\"Q\",\n",
    "    \"CGU\":\"R\", \"CGC\":\"R\", \"CGA\":\"R\", \"CGG\":\"R\",\n",
    "    \"AUU\":\"I\", \"AUC\":\"I\", \"AUA\":\"I\", \"AUG\":\"M\",\n",
    "    \"ACU\":\"T\", \"ACC\":\"T\", \"ACA\":\"T\", \"ACG\":\"T\",\n",
    "    \"AAU\":\"N\", \"AAC\":\"N\", \"AAA\":\"K\", \"AAG\":\"K\",\n",
    "    \"AGU\":\"S\", \"AGC\":\"S\", \"AGA\":\"R\", \"AGG\":\"R\",\n",
    "    \"GUU\":\"V\", \"GUC\":\"V\", \"GUA\":\"V\", \"GUG\":\"V\",\n",
    "    \"GCU\":\"A\", \"GCC\":\"A\", \"GCA\":\"A\", \"GCG\":\"A\",\n",
    "    \"GAU\":\"D\", \"GAC\":\"D\", \"GAA\":\"E\", \"GAG\":\"E\",\n",
    "    \"GGU\":\"G\", \"GGC\":\"G\", \"GGA\":\"G\", \"GGG\":\"G\"}\n",
    "    for i in range(0, len(rna), 3):\n",
    "        result += dictionary[rna[i:i + 3]]\n",
    "    return result"
   ]
  },
  {
   "cell_type": "markdown",
   "source": [
    "Peptide Encoding Problem: Find substrings of a genome encoding a given amino acid sequence.\n",
    "\n",
    "Input: A DNA string Text, an amino acid string Peptide, and the array GeneticCode.<br>\n",
    "Output: All substrings of Text encoding Peptide (if any such substrings exist).<br>\n",
    "Code Challenge: Solve the Peptide Encoding Problem. Click here for the RNA codon table corresponding to the array GeneticCode.\n",
    "\n",
    "Note: The solution may contain repeated strings if the same string occurs more than once as a substring of Text and encodes Peptide.\n",
    "\n",
    "Sample Input:\n",
    "\n",
    "    ATGGCCATGGCCCCCAGAACTGAGATCAATAGTACCCGTATTAACGGGTGA\n",
    "    MA\n",
    "Sample Output:\n",
    "\n",
    "    ATGGCC\n",
    "    GGCCAT\n",
    "    ATGGCC"
   ],
   "metadata": {
    "collapsed": false,
    "pycharm": {
     "name": "#%% md\n"
    }
   }
  },
  {
   "cell_type": "code",
   "execution_count": 24,
   "outputs": [
    {
     "name": "stdout",
     "output_type": "stream",
     "text": [
      "ACATACAATACTCAAATGATCTGGACA\n",
      "ACATACAATACTCAGATGATTTGGACC\n",
      "ACCTATAACACGCAGATGATCTGGACG\n",
      "ACCTACAACACCCAAATGATCTGGACA\n",
      "ACGTACAACACGCAGATGATCTGGACC\n",
      "ACTTATAACACACAGATGATTTGGACG\n",
      "ACTTATAATACCCAGATGATTTGGACG\n",
      "ACTTACAACACACAAATGATTTGGACT\n",
      "AGTCCATATCATCTGAGTATTATATGT\n",
      "CGTCCAAATCATTTGCGTGTTGTATGT\n",
      "TGTCCAGATCATCTGGGTATTGTATGT\n",
      "GGTCCAGATCATCTGCGTATTGTATGT\n",
      "CGTCCAGATCATCTGAGTGTTATAGGT\n",
      "TGTCCATATCATTTGAGTATTGTAGGT\n",
      "TGTCCATATCATCTGGGTATTATACGT\n",
      "CGTCCATATCATCTGGGTATTATACGT\n",
      "GGTCCAAATCATCTGCGTATTATAAGT\n",
      "GGTCCATATCATTTGTGTGTTGTAAGT\n",
      "CGTCCAGATCATCTGCGTGTTGTAAGT\n",
      "TGTCCATATCATTTGCGTATTGTAAGT\n"
     ]
    },
    {
     "data": {
      "text/plain": "['ACATACAATACTCAAATGATCTGGACA',\n 'ACATACAATACTCAGATGATTTGGACC',\n 'ACCTATAACACGCAGATGATCTGGACG',\n 'ACCTACAACACCCAAATGATCTGGACA',\n 'ACGTACAACACGCAGATGATCTGGACC',\n 'ACTTATAACACACAGATGATTTGGACG',\n 'ACTTATAATACCCAGATGATTTGGACG',\n 'ACTTACAACACACAAATGATTTGGACT',\n 'AGTCCATATCATCTGAGTATTATATGT',\n 'CGTCCAAATCATTTGCGTGTTGTATGT',\n 'TGTCCAGATCATCTGGGTATTGTATGT',\n 'GGTCCAGATCATCTGCGTATTGTATGT',\n 'CGTCCAGATCATCTGAGTGTTATAGGT',\n 'TGTCCATATCATTTGAGTATTGTAGGT',\n 'TGTCCATATCATCTGGGTATTATACGT',\n 'CGTCCATATCATCTGGGTATTATACGT',\n 'GGTCCAAATCATCTGCGTATTATAAGT',\n 'GGTCCATATCATTTGTGTGTTGTAAGT',\n 'CGTCCAGATCATCTGCGTGTTGTAAGT',\n 'TGTCCATATCATTTGCGTATTGTAAGT']"
     },
     "execution_count": 24,
     "metadata": {},
     "output_type": "execute_result"
    }
   ],
   "source": [
    "from itertools import product\n",
    "\n",
    "def reverse_translate(peptide):\n",
    "    aminoacids = {\n",
    "    \"M\": [\"ATG\"],\n",
    "    \"I\": [\"ATA\", \"ATC\", \"ATT\"],\n",
    "    \"A\": [\"GCT\", \"GCA\", \"GCC\", \"GCG\"],\n",
    "    \"S\": [\"TCA\", \"TCC\", \"TCG\", \"TCT\"],\n",
    "    \"F\": [\"TTC\", \"TTT\"],\n",
    "    \"P\": [\"CCA\", \"CCC\", \"CCG\", \"CCT\"],\n",
    "    \"C\": [\"TGC\", \"TGT\"],\n",
    "    \"K\": [\"AAG\", \"AAA\"],\n",
    "    \"H\": [\"CAT\", \"CAC\"],\n",
    "    \"D\": [\"GAT\", \"GAC\"],\n",
    "    \"V\": [\"GTA\", \"GTC\", \"GTG\", \"GTT\"],\n",
    "    \"L\": [\"TTG\", \"TTA\", \"CTA\", \"CTC\", \"CTG\", \"CTT\"],\n",
    "    \"W\": [\"TGG\"],\n",
    "    \"T\": [\"ACA\", \"ACC\", \"ACG\", \"ACT\"],\n",
    "    \"R\": [\"AGA\", \"AGG\", \"CGA\", \"CGG\",\"CGT\", \"CGC\"],\n",
    "    \"Y\": [\"TAT\", \"TAC\"],\n",
    "    \"N\": [\"AAC\", \"AAT\"],\n",
    "    \"Q\": [\"CAA\", \"CAG\"],\n",
    "    \"E\": [\"GAA\", \"GAG\"],\n",
    "    \"G\": [\"GGA\", \"GGC\", \"GGT\", \"GGG\"],\n",
    "    \"*\": [\"TAA\", \"TAG\", \"TGA\"]\n",
    "    }\n",
    "    result = []\n",
    "    for i in range(len(peptide)):\n",
    "        result.append(aminoacids[peptide[i]])\n",
    "    result2 = list(map(lambda x: \"\".join(x), product(*result)))\n",
    "    return result2\n",
    "\n",
    "\n",
    "def reverse_complement(dna):\n",
    "    result = \"\"\n",
    "    for i in range(len(dna)):\n",
    "        if dna[i] == \"A\":\n",
    "            result += \"T\"\n",
    "        elif dna[i] == \"T\":\n",
    "            result += \"A\"\n",
    "        elif dna[i] == \"C\":\n",
    "            result += \"G\"\n",
    "        elif dna[i] == \"G\":\n",
    "            result += \"C\"\n",
    "    return result[::-1]\n",
    "\n",
    "\n",
    "def main(text, peptide):\n",
    "    result = reverse_translate(peptide)\n",
    "    result.extend(list(map(reverse_complement, result)))\n",
    "    final_result = []\n",
    "    for item in result:\n",
    "        n = text.count(item)\n",
    "        for i in range(n):\n",
    "            final_result.append(item)\n",
    "    # Print answer\n",
    "    for item in final_result:\n",
    "        print(item)\n",
    "    return final_result"
   ],
   "metadata": {
    "collapsed": false,
    "pycharm": {
     "name": "#%%\n"
    }
   }
  },
  {
   "cell_type": "markdown",
   "source": [
    "Generating Theoretical Spectrum Problem: Generate the theoretical spectrum of a cyclic peptide.\n",
    "\n",
    "Input: An amino acid string Peptide.<br>\n",
    "Output: Cyclospectrum(Peptide).<br>\n",
    "Code Challenge: Solve the Generating Theoretical Spectrum Problem.\n",
    "\n",
    "Note: An obvious approach for solving the Generating Theoretical Spectrum Problem would be to construct a list containing all subpeptides of Peptide, and then find the mass of each subpeptide by adding the integer masses of its constituent amino acids. This approach will work, but you may like to check out Charging Station: Generating the Theoretical Spectrum of a Peptide to see a more elegant algorithm that applies to both linear and cyclic peptides.\n",
    "\n",
    "Sample Input:\n",
    "\n",
    "    LEQN\n",
    "Sample Output:\n",
    "\n",
    "    0 113 114 128 129 227 242 242 257 355 356 370 371 484"
   ],
   "metadata": {
    "collapsed": false,
    "pycharm": {
     "name": "#%% md\n"
    }
   }
  },
  {
   "cell_type": "code",
   "execution_count": 3,
   "outputs": [
    {
     "data": {
      "text/plain": "'0 57 57 97 99 113 115 128 129 129 131 156 156 163 163 163 170 212 213 213 214 220 241 257 260 260 262 285 292 294 298 311 319 326 342 349 370 375 376 376 377 393 413 416 423 423 427 454 470 473 474 474 480 489 505 505 508 522 526 531 583 583 583 586 586 588 605 617 630 633 634 636 637 637 640 643 685 687 701 714 734 739 742 746 746 762 765 768 793 796 799 800 800 803 829 843 850 857 875 893 897 897 898 902 924 928 928 932 954 958 959 959 963 981 999 1006 1013 1027 1053 1056 1056 1057 1060 1063 1088 1091 1094 1110 1110 1114 1117 1122 1142 1155 1169 1171 1213 1216 1219 1219 1220 1222 1223 1226 1239 1251 1268 1270 1270 1273 1273 1273 1325 1330 1334 1348 1351 1351 1367 1376 1382 1382 1383 1386 1402 1429 1433 1433 1440 1443 1463 1479 1480 1480 1481 1486 1507 1514 1530 1537 1545 1558 1562 1564 1571 1594 1596 1596 1599 1615 1636 1642 1643 1643 1644 1686 1693 1693 1693 1700 1700 1725 1727 1727 1728 1741 1743 1757 1759 1799 1799 1856'"
     },
     "execution_count": 3,
     "metadata": {},
     "output_type": "execute_result"
    }
   ],
   "source": [
    "def cyclospectrum(peptide):\n",
    "\n",
    "    def subpeptides(peptide):\n",
    "        l = len(peptide)\n",
    "        ls = []\n",
    "        looped = peptide + peptide\n",
    "        for start in range(0, l):\n",
    "            for length in range(1, l):\n",
    "                ls.append((looped[start:start + length]))\n",
    "        ls.append(peptide)\n",
    "        return ls\n",
    "\n",
    "    masses = {'A' : 71,\n",
    "          'R' : 156,\n",
    "          'N' : 114,\n",
    "          'D' : 115,\n",
    "          'C' : 103,\n",
    "          'E' : 129,\n",
    "          'Q' : 128,\n",
    "          'G' : 57,\n",
    "          'H' : 137,\n",
    "          'I' : 113,\n",
    "          'L' : 113,\n",
    "          'K' : 128,\n",
    "          'M' : 131,\n",
    "          'F' : 147,\n",
    "          'P' : 97,\n",
    "          'S' : 87,\n",
    "          'T' : 101,\n",
    "          'W' : 186,\n",
    "          'Y' : 163,\n",
    "          'V' : 99,\n",
    "          'X' : 0     #  for unknown amino acids\n",
    "          } # dictionary of amino acids 'aa' and their monoisotopic mass\n",
    "\n",
    "    subpeptides = subpeptides(peptide)\n",
    "    result = [0]\n",
    "    for item in subpeptides:\n",
    "        mass = 0\n",
    "        for aa in item:\n",
    "            mass += masses[aa]\n",
    "        result.append(mass)\n",
    "\n",
    "    final_result = str(sorted(result)).replace(\", \", \" \").strip(\"[]\")\n",
    "    return final_result"
   ],
   "metadata": {
    "collapsed": false,
    "pycharm": {
     "name": "#%%\n"
    }
   }
  },
  {
   "cell_type": "markdown",
   "source": [
    "Code Challenge: Implement LinearSpectrum.\n",
    "\n",
    "Input: An amino acid string Peptide.<br>\n",
    "Output: The linear spectrum of Peptide.\n",
    "\n",
    "Sample Input:\n",
    "\n",
    "    NQEL\n",
    "Sample Output:\n",
    "\n",
    "    0 113 114 128 129 242 242 257 370 371 484"
   ],
   "metadata": {
    "collapsed": false,
    "pycharm": {
     "name": "#%% md\n"
    }
   }
  },
  {
   "cell_type": "code",
   "execution_count": 6,
   "outputs": [
    {
     "name": "stdout",
     "output_type": "stream",
     "text": [
      "0 57 71 71 71 71 71 87 87 97 99 101 101 103 103 103 103 113 113 114 114 114 114 115 128 128 128 128 128 129 129 129 131 131 137 137 137 142 147 156 156 163 163 163 168 170 171 174 186 186 199 200 204 206 208 211 213 215 215 217 218 229 232 234 238 241 242 244 257 258 259 262 265 265 266 268 269 270 271 273 275 276 276 277 277 282 284 287 287 291 291 291 305 313 318 318 321 323 328 328 329 332 333 333 336 339 339 360 362 362 372 373 374 375 379 392 394 394 395 399 400 400 401 404 404 404 404 405 410 410 418 419 421 424 424 428 428 431 433 433 435 442 447 447 457 461 463 466 474 476 480 481 486 491 495 497 499 499 502 503 506 507 511 518 523 531 531 532 532 534 537 539 541 547 547 550 557 561 562 564 567 571 575 577 578 587 594 594 594 594 596 598 598 600 604 605 605 608 610 610 612 617 618 628 634 645 665 665 668 669 674 675 676 681 681 686 687 690 690 692 692 695 695 695 697 697 701 706 708 709 710 712 715 718 722 722 727 739 740 746 747 748 757 757 767 768 768 784 790 791 793 801 805 805 808 809 809 816 819 821 823 823 825 827 828 828 829 832 836 837 837 838 839 841 849 853 856 862 871 875 876 876 880 885 887 896 899 903 904 904 909 912 927 928 930 930 933 936 936 946 950 951 951 952 956 956 964 965 966 967 968 970 974 981 998 999 999 1000 1002 1004 1004 1005 1008 1013 1017 1018 1022 1025 1029 1033 1038 1041 1049 1055 1059 1067 1068 1070 1079 1081 1085 1089 1092 1094 1096 1096 1097 1099 1100 1102 1104 1108 1112 1114 1114 1116 1119 1141 1141 1150 1151 1153 1156 1162 1162 1167 1167 1167 1169 1169 1171 1173 1181 1181 1188 1195 1203 1205 1212 1215 1222 1225 1227 1227 1228 1228 1233 1233 1237 1238 1242 1259 1263 1266 1269 1270 1279 1280 1282 1283 1284 1285 1286 1290 1290 1291 1302 1304 1304 1304 1308 1309 1312 1313 1330 1337 1340 1351 1356 1356 1362 1362 1364 1368 1373 1375 1380 1384 1384 1385 1387 1391 1398 1401 1408 1410 1417 1419 1422 1427 1427 1432 1432 1433 1433 1435 1441 1442 1443 1449 1451 1471 1474 1477 1490 1495 1496 1498 1501 1503 1504 1512 1512 1513 1514 1515 1523 1528 1532 1536 1545 1545 1548 1548 1556 1556 1561 1566 1571 1572 1577 1583 1585 1588 1595 1598 1599 1599 1602 1604 1619 1626 1626 1633 1642 1643 1645 1646 1657 1661 1664 1666 1669 1673 1675 1685 1685 1686 1690 1701 1703 1703 1704 1708 1708 1712 1713 1713 1714 1714 1716 1736 1747 1755 1756 1759 1765 1772 1772 1774 1779 1786 1789 1789 1789 1801 1801 1806 1807 1814 1816 1822 1827 1831 1836 1836 1841 1843 1843 1843 1845 1850 1857 1861 1876 1878 1879 1884 1887 1902 1904 1907 1909 1915 1917 1917 1918 1921 1928 1930 1934 1950 1951 1958 1958 1972 1972 1972 1974 1978 1980 1985 1992 1994 1998 1999 2004 2006 2018 2018 2022 2029 2030 2037 2043 2043 2046 2054 2059 2065 2070 2075 2087 2095 2097 2099 2103 2106 2107 2108 2109 2113 2114 2114 2117 2119 2120 2125 2130 2132 2146 2166 2166 2169 2171 2183 2184 2189 2193 2193 2196 2200 2201 2210 2216 2217 2222 2233 2235 2237 2240 2243 2254 2258 2260 2267 2269 2271 2280 2283 2283 2285 2290 2294 2303 2313 2321 2330 2331 2336 2338 2340 2346 2351 2353 2361 2368 2372 2372 2382 2384 2393 2397 2398 2400 2401 2404 2408 2431 2432 2439 2441 2453 2457 2458 2460 2464 2465 2469 2471 2475 2481 2498 2501 2509 2512 2512 2522 2529 2531 2532 2535 2540 2545 2553 2561 2570 2570 2589 2590 2593 2594 2602 2604 2612 2612 2615 2616 2626 2637 2644 2664 2664 2668 2669 2675 2677 2684 2690 2695 2698 2701 2707 2713 2715 2718 2718 2726 2740 2740 2740 2771 2789 2793 2793 2797 2799 2800 2805 2808 2811 2814 2815 2827 2827 2835 2854 2861 2868 2871 2874 2881 2884 2902 2903 2922 2928 2930 2930 2936 2939 2940 2945 2955 2955 2968 2970 2974 2975 2994 2998 3005 3017 3026 3033 3043 3058 3059 3068 3069 3073 3076 3081 3084 3088 3099 3112 3118 3122 3131 3136 3146 3155 3187 3187 3187 3189 3197 3199 3206 3207 3209 3213 3221 3249 3262 3268 3284 3285 3288 3292 3301 3302 3302 3320 3334 3334 3350 3369 3372 3391 3393 3399 3399 3402 3405 3405 3416 3421 3421 3462 3476 3486 3497 3500 3505 3506 3508 3517 3519 3520 3530 3549 3555 3568 3579 3620 3620 3622 3625 3631 3634 3642 3643 3662 3667 3686 3693 3696 3712 3723 3723 3744 3749 3765 3773 3781 3783 3794 3795 3799 3817 3826 3852 3879 3882 3896 3897 3900 3902 3904 3909 3930 3955 3980 3996 3999 4003 4016 4017 4024 4026 4083 4086 4102 4111 4117 4117 4127 4173 4173 4189 4212 4214 4218 4220 4230 4276 4301 4303 4317 4321 4349 4359 4388 4390 4404 4450 4487 4491 4496 4507 4574 4594 4597 4624 4636 4711 4723 4725 4783 4812 4870 4911 4998 4998 5085\n"
     ]
    }
   ],
   "source": [
    "def linear_spectrum(peptide):\n",
    "    masses = {'A' : 71,\n",
    "          'R' : 156,\n",
    "          'N' : 114,\n",
    "          'D' : 115,\n",
    "          'C' : 103,\n",
    "          'E' : 129,\n",
    "          'Q' : 128,\n",
    "          'G' : 57,\n",
    "          'H' : 137,\n",
    "          'I' : 113,\n",
    "          'L' : 113,\n",
    "          'K' : 128,\n",
    "          'M' : 131,\n",
    "          'F' : 147,\n",
    "          'P' : 97,\n",
    "          'S' : 87,\n",
    "          'T' : 101,\n",
    "          'W' : 186,\n",
    "          'Y' : 163,\n",
    "          'V' : 99,\n",
    "          'X' : 0     #  for unknown amino acids\n",
    "          } # dictionary of amino acids 'aa' and their monoisotopic mass\n",
    "    alphabet = masses.keys()\n",
    "    prefix_mass = [0]\n",
    "    for i in range(1, len(peptide) + 1):\n",
    "        for s in alphabet:\n",
    "            if s == peptide[i - 1]:\n",
    "                prefix_mass.append(prefix_mass[i - 1] + masses[s])\n",
    "    linear_spectrum = [0]\n",
    "    for i in range(0, len(peptide)):\n",
    "        for j in range(i + 1, len(peptide) + 1):\n",
    "            linear_spectrum.append(prefix_mass[j] - prefix_mass[i])\n",
    "    return sorted(linear_spectrum)\n"
   ],
   "metadata": {
    "collapsed": false,
    "pycharm": {
     "name": "#%%\n"
    }
   }
  }
 ],
 "metadata": {
  "kernelspec": {
   "display_name": "Python 3",
   "language": "python",
   "name": "python3"
  },
  "language_info": {
   "codemirror_mode": {
    "name": "ipython",
    "version": 2
   },
   "file_extension": ".py",
   "mimetype": "text/x-python",
   "name": "python",
   "nbconvert_exporter": "python",
   "pygments_lexer": "ipython2",
   "version": "2.7.6"
  }
 },
 "nbformat": 4,
 "nbformat_minor": 0
}