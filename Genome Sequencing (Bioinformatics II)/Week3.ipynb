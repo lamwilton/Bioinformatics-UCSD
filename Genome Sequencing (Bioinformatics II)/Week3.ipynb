{
 "cells": [
  {
   "cell_type": "markdown",
   "source": [
    "The following problem asks you to find the translation of an RNA string into an amino acid string.\n",
    "\n",
    "Protein Translation Problem: Translate an RNA string into an amino acid string.\n",
    "\n",
    "Input: An RNA string Pattern and the array GeneticCode.<br>\n",
    "Output: The translation of Pattern into an amino acid string Peptide.<br>\n",
    "Code Challenge: Solve the Protein Translation Problem.\n",
    "\n",
    "Notes:\n",
    "\n",
    "The \"Stop\" codon should not be translated, as shown in the sample below.<br>\n",
    "For your convenience, we provide a downloadable RNA codon table indicating which codons encode which amino acids.\n",
    "\n",
    "Sample Input:\n",
    "\n",
    "    AUGGCCAUGGCGCCCAGAACUGAGAUCAAUAGUACCCGUAUUAACGGGUGA\n",
    "Sample Output:\n",
    "\n",
    "    MAMAPRTEINSTRING"
   ],
   "metadata": {
    "collapsed": false,
    "pycharm": {
     "name": "#%% md\n"
    }
   }
  },
  {
   "cell_type": "code",
   "execution_count": 5,
   "metadata": {
    "collapsed": true,
    "pycharm": {
     "name": "#%%\n"
    }
   },
   "outputs": [
    {
     "data": {
      "text/plain": "'MIVRIQDRALWLWASRIVQTAVPRAIKPKALLNQTLLRNKASHDPCSILGPRRSALILFLLVPSLIICVLLPPKDMISGNPPLTPLPRAADSVALPNTRSTAEDLTEHSDLMGHASSEEVACSDGAASTLLGAVRSSSRIKGGGYHKNKLALSFRIAVQTLSSTDVKRAISPSRPRGGTLIRILRPQLSFHYHRNNIAYKYFVGNSIFAAPGIVTLYPGTSVQVLLRLSRLHFMLLSMRGQRSETHYSNLGRMSSPTLFSGGMSWYSDGLMRSVPGLVTERPWGYCLGDLITRLCRVFTIPLEPSCLLQQLRTRIQLLDVQLPWKSLAARDAKGRAHGSDDAWGPTFRRSKFPELRPRPCSFDGPLTSSLVVARLVTPPNTPTVIYNSRGSHFIIAPWVYRLGVLCHRACVRTHMLPEDTIRVKWLYLEIGGGCYTPQSRAFKPCVAKPTFVHQDDTEESTRKRPTSGKAVRPTKHLSPLAAVLGQPAVLTCYRVRFCKCQVLGLSREGTTRVTCKYTRQTRWNLGIPTEGPSRHESQALPGNPQPSIHSGISSMARVTTYSPTNGTGDMAHIDLIGIGLMARVYHHKHASKFVMDKDNIKQLSSRFSDFHHNGNDVLPGVFDGEATPKSRWCLTLRIETGASFIDNVSAIAGISSIVPGTINEYRFGPISQRYREVPYWSGYRPAQCRHGDVKPSKGGTLPLLRELHIGTFAARLLLCFILIILKKLTDGRGKPYVASSTVSNLHVNLAGEFTLSVRPSIIEWSYKVRVVKDKDLATRRYSQGSGLAGKRSFWGKTTYRYLNGRGHLDRDRVPAGILLGGEPIRHWRPPTCVSTCSRSTSHPTPGHMTEGGGCPIREGVGSLGLLRWDRFLTAHNCPKRPGHKLKLVHIYSLQRIRDQFGSSGPKLYLPSLHLGDAYRIPCRTPVKASHSVTARNGVAFRFRTFTYNSTGSIISSEGLETPAGLQPGRKPPDEEREAWSGVPLSYFMSLQDPHARSASAARLPLQHLWSRLQVTTGNLEYNISSQPEVLGSRTLCRPDPSQYNSSCVVELPANSGLLFMDWTAPLIRDSGILTKLGDNTYLPHHVCPRINPISNPPACFAMAMVYALNNAPIPATERLVLFMNSGATVRDSWHGSTRDRLRVPRFTAWVMPERCARSVVAAYRRLAELISSFCVPRLGPPHPRQDYEPESEQGPQLLSNFTLILAICQYAARESPYPETRSQFGMVVSVTLISCIISGVATSVGWSFVKISNVLEIMHWSTGCRNEPVGDKRSSECEKYCMCVKNGLWSMITPRLHRDASEIPLICMCHGSQLKTEGGHPTRGVLMVLVSKDPSQARKHYIIGSVNTTCVGRVKGYYPGLGKFHFSDSLTYLDLELSQLPRTHADGDGTLAVPSGGSDCRAFCWIIDRHISYGPEGPNLRISSVKITTKMLGKQSGLEYKNTPIGLQFRVDASWLRLRDSADLKYSECNSTDARRTPVSLGSIQQRARMEGASNPERDCKKLPILCGHPSSTARSQYAVAHNLKLRSRSECFNNLLPSPTFFFACQATTPRRATPHTLRTSTDFTPRERHFRWGNWAGVMVHAQNAFNLRRSLEIHHEPLKGTHKIGLLSLSILIVPLNGHRRKFTNHPSLMCGPLCTRLEPYQFPKLQRTSWGRCFPVLAGPSASNFGNATCYFFTNITGIILFCVKIMEITMRSQQVRYGPSQCCNALTSVIYIICGSTLFREKFASGLRCQDPLLGSGIQPTRNRRSSFNAARGIIDHAELLAASADVGCQQPWNARRLLSMGPGCFADVPSLDPVTHRRCTCDLSTSARCLLASSLIKTTYCSANHRLGKAPSIKPAEYQWILLDPSRPIPCFRDGSGILPDPSRYLIIMVISYSTLERYQEARCRIKRSISPRYSPSNLVSIFLSVRGEWKIIKSVCMGTGRVGTAGGNDRLEIPRIWFDALCTCFLSSECAVGICEGHSREDRKLPLIVRLCPRNDLPSTSKNKVHVALMQPVPSSRDVLIAGVRSFGQQTNCSNEIWEHNWFHFPPPSGVCLGIPSRKPRAAKTALREYVQGRCVQLLKNSGNSSSYGLIRGSAVVDSYSTRRPCPYSPTRVNLRLSPGLLFAHRDQVCPLNMGLVVCNSRTLVMNSNSRVVPITSFGNLFPTDSPARYSKWSRSPRPALWEPITTSSYMDILSGYATTNAQTLHTGVPEDCSWASAYSILSSISSLVGIPLWCVYVGMNELVSHVLSDRDRSDAPHSPNFDSKRLGDMVEHRLIGRCGVVCKSDVMSIYSYRNPRKCWPGIGVMQANKDTPDTAGTPALFISTLRFTRPGLVSLFRFGCSLILSVNSGCQSNARYSPPTSIAHIPVRAVLSDCEITASYSAEKANTSSRGLRGRYKSLYPMRAGPYYSLVRLTSLDCWGLAISVRVIRALARRIVSLAIVFETATCGSHTFRQARRDYCRCQITVDPYTGDPVEGIKVLQIAALLCRLAGAYQLKMEPSLNLPILKYKQKFKRNLGLEVPRNGRHNCPFSFVMRLIGTLLMYKSLHNYDSVPAGSRAAHCCPEPTSGLQLTLNSDDTYREVPDRSEYNSMVATLISRSGLRHAGSDLFPAGQGEHKLPMWSSLEYYESRGPLRLAANLTRVFYGRTASSTKSPCAFVFLRGGSARTVGLALATKSLPWVIKLNAMADKRQPADDSGRLRRNLRDRLCATLLALPDRGRGTESCAPVHAYHCEPATPFLDMYLYLSVPMKWNPLWVSPSSTSLDGRITSPSCQARRSFIRACPLRRLLAPSTLDLALTRERVNGNVLHYMHFFTTGLPKPNRDNGPSALRRYFGLASDRRGQVYSVLMRWPHVLEHLSGSMRLSGHSEQTERLPCKQTIRLIYRVYLATNGATGQLRDSYLDCLCGVVTRGRWQRFRVLSGACLRVGPAISDEGAPGECCDPVAKYSRHKPRNIFVVPRILLIWRIVGAEVSLSLGSSFSVIRAAMLQLRWGEKQVPDRWASQICGHESWFHRLAAPLICICSWSRPSSWRWVSVLAPRDPPRTLSRSFLKYGQVPEKSHSTCRILKRPKAITDGRVHALASRIARAKMSISCIVDQQDQLAQARVPRELTLLAVQDGSSISNFVSTLLRGLVSSTRPRMIMRWPPFNPRDVVISLGPYEDPHIAVIPRCTIEQPSSG'"
     },
     "execution_count": 5,
     "metadata": {},
     "output_type": "execute_result"
    }
   ],
   "source": [
    "def translation(rna):\n",
    "    result = \"\"\n",
    "    dictionary = {\"UUU\":\"F\", \"UUC\":\"F\", \"UUA\":\"L\", \"UUG\":\"L\",\n",
    "    \"UCU\":\"S\", \"UCC\":\"S\", \"UCA\":\"S\", \"UCG\":\"S\",\n",
    "    \"UAU\":\"Y\", \"UAC\":\"Y\", \"UAA\":\"\", \"UAG\":\"\",\n",
    "    \"UGU\":\"C\", \"UGC\":\"C\", \"UGA\":\"\", \"UGG\":\"W\",\n",
    "    \"CUU\":\"L\", \"CUC\":\"L\", \"CUA\":\"L\", \"CUG\":\"L\",\n",
    "    \"CCU\":\"P\", \"CCC\":\"P\", \"CCA\":\"P\", \"CCG\":\"P\",\n",
    "    \"CAU\":\"H\", \"CAC\":\"H\", \"CAA\":\"Q\", \"CAG\":\"Q\",\n",
    "    \"CGU\":\"R\", \"CGC\":\"R\", \"CGA\":\"R\", \"CGG\":\"R\",\n",
    "    \"AUU\":\"I\", \"AUC\":\"I\", \"AUA\":\"I\", \"AUG\":\"M\",\n",
    "    \"ACU\":\"T\", \"ACC\":\"T\", \"ACA\":\"T\", \"ACG\":\"T\",\n",
    "    \"AAU\":\"N\", \"AAC\":\"N\", \"AAA\":\"K\", \"AAG\":\"K\",\n",
    "    \"AGU\":\"S\", \"AGC\":\"S\", \"AGA\":\"R\", \"AGG\":\"R\",\n",
    "    \"GUU\":\"V\", \"GUC\":\"V\", \"GUA\":\"V\", \"GUG\":\"V\",\n",
    "    \"GCU\":\"A\", \"GCC\":\"A\", \"GCA\":\"A\", \"GCG\":\"A\",\n",
    "    \"GAU\":\"D\", \"GAC\":\"D\", \"GAA\":\"E\", \"GAG\":\"E\",\n",
    "    \"GGU\":\"G\", \"GGC\":\"G\", \"GGA\":\"G\", \"GGG\":\"G\"}\n",
    "    for i in range(0, len(rna), 3):\n",
    "        result += dictionary[rna[i:i + 3]]\n",
    "    return result"
   ]
  },
  {
   "cell_type": "markdown",
   "source": [
    "We say that a DNA string Pattern encodes an amino acid string Peptide if the RNA string transcribed from either Pattern or its reverse complement Pattern translates into Peptide. For example, the DNA string GAAACT is transcribed into GAAACU and translated into ET. The reverse complement of this DNA string, AGTTTC, is transcribed into AGUUUC and translated into SF. Thus, GAAACT encodes both ET and SF.\n",
    "\n",
    "Peptide Encoding Problem: Find substrings of a genome encoding a given amino acid sequence.\n",
    "\n",
    "Input: A DNA string Text, an amino acid string Peptide, and the array GeneticCode.<br>\n",
    "Output: All substrings of Text encoding Peptide (if any such substrings exist).<br>\n",
    "Code Challenge: Solve the Peptide Encoding Problem. Click here for the RNA codon table corresponding to the array GeneticCode.\n",
    "\n",
    "Note: The solution may contain repeated strings if the same string occurs more than once as a substring of Text and encodes Peptide.\n",
    "\n",
    "Sample Input:\n",
    "\n",
    "    ATGGCCATGGCCCCCAGAACTGAGATCAATAGTACCCGTATTAACGGGTGA\n",
    "    MA\n",
    "Sample Output:\n",
    "\n",
    "    ATGGCC\n",
    "    GGCCAT\n",
    "    ATGGCC"
   ],
   "metadata": {
    "collapsed": false,
    "pycharm": {
     "name": "#%% md\n"
    }
   }
  },
  {
   "cell_type": "code",
   "execution_count": 24,
   "outputs": [
    {
     "name": "stdout",
     "output_type": "stream",
     "text": [
      "ACATACAATACTCAAATGATCTGGACA\n",
      "ACATACAATACTCAGATGATTTGGACC\n",
      "ACCTATAACACGCAGATGATCTGGACG\n",
      "ACCTACAACACCCAAATGATCTGGACA\n",
      "ACGTACAACACGCAGATGATCTGGACC\n",
      "ACTTATAACACACAGATGATTTGGACG\n",
      "ACTTATAATACCCAGATGATTTGGACG\n",
      "ACTTACAACACACAAATGATTTGGACT\n",
      "AGTCCATATCATCTGAGTATTATATGT\n",
      "CGTCCAAATCATTTGCGTGTTGTATGT\n",
      "TGTCCAGATCATCTGGGTATTGTATGT\n",
      "GGTCCAGATCATCTGCGTATTGTATGT\n",
      "CGTCCAGATCATCTGAGTGTTATAGGT\n",
      "TGTCCATATCATTTGAGTATTGTAGGT\n",
      "TGTCCATATCATCTGGGTATTATACGT\n",
      "CGTCCATATCATCTGGGTATTATACGT\n",
      "GGTCCAAATCATCTGCGTATTATAAGT\n",
      "GGTCCATATCATTTGTGTGTTGTAAGT\n",
      "CGTCCAGATCATCTGCGTGTTGTAAGT\n",
      "TGTCCATATCATTTGCGTATTGTAAGT\n"
     ]
    },
    {
     "data": {
      "text/plain": "['ACATACAATACTCAAATGATCTGGACA',\n 'ACATACAATACTCAGATGATTTGGACC',\n 'ACCTATAACACGCAGATGATCTGGACG',\n 'ACCTACAACACCCAAATGATCTGGACA',\n 'ACGTACAACACGCAGATGATCTGGACC',\n 'ACTTATAACACACAGATGATTTGGACG',\n 'ACTTATAATACCCAGATGATTTGGACG',\n 'ACTTACAACACACAAATGATTTGGACT',\n 'AGTCCATATCATCTGAGTATTATATGT',\n 'CGTCCAAATCATTTGCGTGTTGTATGT',\n 'TGTCCAGATCATCTGGGTATTGTATGT',\n 'GGTCCAGATCATCTGCGTATTGTATGT',\n 'CGTCCAGATCATCTGAGTGTTATAGGT',\n 'TGTCCATATCATTTGAGTATTGTAGGT',\n 'TGTCCATATCATCTGGGTATTATACGT',\n 'CGTCCATATCATCTGGGTATTATACGT',\n 'GGTCCAAATCATCTGCGTATTATAAGT',\n 'GGTCCATATCATTTGTGTGTTGTAAGT',\n 'CGTCCAGATCATCTGCGTGTTGTAAGT',\n 'TGTCCATATCATTTGCGTATTGTAAGT']"
     },
     "execution_count": 24,
     "metadata": {},
     "output_type": "execute_result"
    }
   ],
   "source": [
    "from itertools import product\n",
    "\n",
    "def reverse_translate(peptide):\n",
    "    aminoacids = {\n",
    "    \"M\": [\"ATG\"],\n",
    "    \"I\": [\"ATA\", \"ATC\", \"ATT\"],\n",
    "    \"A\": [\"GCT\", \"GCA\", \"GCC\", \"GCG\"],\n",
    "    \"S\": [\"TCA\", \"TCC\", \"TCG\", \"TCT\"],\n",
    "    \"F\": [\"TTC\", \"TTT\"],\n",
    "    \"P\": [\"CCA\", \"CCC\", \"CCG\", \"CCT\"],\n",
    "    \"C\": [\"TGC\", \"TGT\"],\n",
    "    \"K\": [\"AAG\", \"AAA\"],\n",
    "    \"H\": [\"CAT\", \"CAC\"],\n",
    "    \"D\": [\"GAT\", \"GAC\"],\n",
    "    \"V\": [\"GTA\", \"GTC\", \"GTG\", \"GTT\"],\n",
    "    \"L\": [\"TTG\", \"TTA\", \"CTA\", \"CTC\", \"CTG\", \"CTT\"],\n",
    "    \"W\": [\"TGG\"],\n",
    "    \"T\": [\"ACA\", \"ACC\", \"ACG\", \"ACT\"],\n",
    "    \"R\": [\"AGA\", \"AGG\", \"CGA\", \"CGG\",\"CGT\", \"CGC\"],\n",
    "    \"Y\": [\"TAT\", \"TAC\"],\n",
    "    \"N\": [\"AAC\", \"AAT\"],\n",
    "    \"Q\": [\"CAA\", \"CAG\"],\n",
    "    \"E\": [\"GAA\", \"GAG\"],\n",
    "    \"G\": [\"GGA\", \"GGC\", \"GGT\", \"GGG\"],\n",
    "    \"*\": [\"TAA\", \"TAG\", \"TGA\"]\n",
    "    }\n",
    "    result = []\n",
    "    for i in range(len(peptide)):\n",
    "        result.append(aminoacids[peptide[i]])\n",
    "    result2 = list(map(lambda x: \"\".join(x), product(*result)))\n",
    "    return result2\n",
    "\n",
    "\n",
    "def reverse_complement(dna):\n",
    "    result = \"\"\n",
    "    for i in range(len(dna)):\n",
    "        if dna[i] == \"A\":\n",
    "            result += \"T\"\n",
    "        elif dna[i] == \"T\":\n",
    "            result += \"A\"\n",
    "        elif dna[i] == \"C\":\n",
    "            result += \"G\"\n",
    "        elif dna[i] == \"G\":\n",
    "            result += \"C\"\n",
    "    return result[::-1]\n",
    "\n",
    "\n",
    "def main(text, peptide):\n",
    "    result = reverse_translate(peptide)\n",
    "    result.extend(list(map(reverse_complement, result)))\n",
    "    final_result = []\n",
    "    for item in result:\n",
    "        n = text.count(item)\n",
    "        for i in range(n):\n",
    "            final_result.append(item)\n",
    "    # Print answer\n",
    "    for item in final_result:\n",
    "        print(item)\n",
    "    return final_result\n"
   ],
   "metadata": {
    "collapsed": false,
    "pycharm": {
     "name": "#%%\n"
    }
   }
  }
 ],
 "metadata": {
  "kernelspec": {
   "display_name": "Python 3",
   "language": "python",
   "name": "python3"
  },
  "language_info": {
   "codemirror_mode": {
    "name": "ipython",
    "version": 2
   },
   "file_extension": ".py",
   "mimetype": "text/x-python",
   "name": "python",
   "nbconvert_exporter": "python",
   "pygments_lexer": "ipython2",
   "version": "2.7.6"
  }
 },
 "nbformat": 4,
 "nbformat_minor": 0
}