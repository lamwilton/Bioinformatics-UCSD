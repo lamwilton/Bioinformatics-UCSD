{
 "cells": [
  {
   "cell_type": "markdown",
   "source": [
    "The following problem asks you to find the translation of an RNA string into an amino acid string.\n",
    "\n",
    "Protein Translation Problem: Translate an RNA string into an amino acid string.\n",
    "\n",
    "Input: An RNA string Pattern and the array GeneticCode.<br>\n",
    "Output: The translation of Pattern into an amino acid string Peptide.<br>\n",
    "Code Challenge: Solve the Protein Translation Problem.\n",
    "\n",
    "Notes:\n",
    "\n",
    "The \"Stop\" codon should not be translated, as shown in the sample below.<br>\n",
    "For your convenience, we provide a downloadable RNA codon table indicating which codons encode which amino acids.\n",
    "\n",
    "Sample Input:\n",
    "\n",
    "    AUGGCCAUGGCGCCCAGAACUGAGAUCAAUAGUACCCGUAUUAACGGGUGA\n",
    "Sample Output:\n",
    "\n",
    "    MAMAPRTEINSTRING"
   ],
   "metadata": {
    "collapsed": false,
    "pycharm": {
     "name": "#%% md\n"
    }
   }
  },
  {
   "cell_type": "code",
   "execution_count": 1,
   "metadata": {
    "collapsed": true,
    "pycharm": {
     "name": "#%%\n"
    }
   },
   "outputs": [],
   "source": [
    "def translation(rna):\n",
    "    result = \"\"\n",
    "    dictionary = {\"UUU\":\"F\", \"UUC\":\"F\", \"UUA\":\"L\", \"UUG\":\"L\",\n",
    "    \"UCU\":\"S\", \"UCC\":\"S\", \"UCA\":\"S\", \"UCG\":\"S\",\n",
    "    \"UAU\":\"Y\", \"UAC\":\"Y\", \"UAA\":\"\", \"UAG\":\"\",\n",
    "    \"UGU\":\"C\", \"UGC\":\"C\", \"UGA\":\"\", \"UGG\":\"W\",\n",
    "    \"CUU\":\"L\", \"CUC\":\"L\", \"CUA\":\"L\", \"CUG\":\"L\",\n",
    "    \"CCU\":\"P\", \"CCC\":\"P\", \"CCA\":\"P\", \"CCG\":\"P\",\n",
    "    \"CAU\":\"H\", \"CAC\":\"H\", \"CAA\":\"Q\", \"CAG\":\"Q\",\n",
    "    \"CGU\":\"R\", \"CGC\":\"R\", \"CGA\":\"R\", \"CGG\":\"R\",\n",
    "    \"AUU\":\"I\", \"AUC\":\"I\", \"AUA\":\"I\", \"AUG\":\"M\",\n",
    "    \"ACU\":\"T\", \"ACC\":\"T\", \"ACA\":\"T\", \"ACG\":\"T\",\n",
    "    \"AAU\":\"N\", \"AAC\":\"N\", \"AAA\":\"K\", \"AAG\":\"K\",\n",
    "    \"AGU\":\"S\", \"AGC\":\"S\", \"AGA\":\"R\", \"AGG\":\"R\",\n",
    "    \"GUU\":\"V\", \"GUC\":\"V\", \"GUA\":\"V\", \"GUG\":\"V\",\n",
    "    \"GCU\":\"A\", \"GCC\":\"A\", \"GCA\":\"A\", \"GCG\":\"A\",\n",
    "    \"GAU\":\"D\", \"GAC\":\"D\", \"GAA\":\"E\", \"GAG\":\"E\",\n",
    "    \"GGU\":\"G\", \"GGC\":\"G\", \"GGA\":\"G\", \"GGG\":\"G\"}\n",
    "    for i in range(0, len(rna), 3):\n",
    "        result += dictionary[rna[i:i + 3]]\n",
    "    return result"
   ]
  },
  {
   "cell_type": "markdown",
   "source": [
    "Peptide Encoding Problem: Find substrings of a genome encoding a given amino acid sequence.\n",
    "\n",
    "Input: A DNA string Text, an amino acid string Peptide, and the array GeneticCode.<br>\n",
    "Output: All substrings of Text encoding Peptide (if any such substrings exist).<br>\n",
    "Code Challenge: Solve the Peptide Encoding Problem. Click here for the RNA codon table corresponding to the array GeneticCode.\n",
    "\n",
    "Note: The solution may contain repeated strings if the same string occurs more than once as a substring of Text and encodes Peptide.\n",
    "\n",
    "Sample Input:\n",
    "\n",
    "    ATGGCCATGGCCCCCAGAACTGAGATCAATAGTACCCGTATTAACGGGTGA\n",
    "    MA\n",
    "Sample Output:\n",
    "\n",
    "    ATGGCC\n",
    "    GGCCAT\n",
    "    ATGGCC"
   ],
   "metadata": {
    "collapsed": false,
    "pycharm": {
     "name": "#%% md\n"
    }
   }
  },
  {
   "cell_type": "code",
   "execution_count": 2,
   "outputs": [],
   "source": [
    "from itertools import product\n",
    "\n",
    "def reverse_translate(peptide):\n",
    "    aminoacids = {\n",
    "    \"M\": [\"ATG\"],\n",
    "    \"I\": [\"ATA\", \"ATC\", \"ATT\"],\n",
    "    \"A\": [\"GCT\", \"GCA\", \"GCC\", \"GCG\"],\n",
    "    \"S\": [\"TCA\", \"TCC\", \"TCG\", \"TCT\"],\n",
    "    \"F\": [\"TTC\", \"TTT\"],\n",
    "    \"P\": [\"CCA\", \"CCC\", \"CCG\", \"CCT\"],\n",
    "    \"C\": [\"TGC\", \"TGT\"],\n",
    "    \"K\": [\"AAG\", \"AAA\"],\n",
    "    \"H\": [\"CAT\", \"CAC\"],\n",
    "    \"D\": [\"GAT\", \"GAC\"],\n",
    "    \"V\": [\"GTA\", \"GTC\", \"GTG\", \"GTT\"],\n",
    "    \"L\": [\"TTG\", \"TTA\", \"CTA\", \"CTC\", \"CTG\", \"CTT\"],\n",
    "    \"W\": [\"TGG\"],\n",
    "    \"T\": [\"ACA\", \"ACC\", \"ACG\", \"ACT\"],\n",
    "    \"R\": [\"AGA\", \"AGG\", \"CGA\", \"CGG\",\"CGT\", \"CGC\"],\n",
    "    \"Y\": [\"TAT\", \"TAC\"],\n",
    "    \"N\": [\"AAC\", \"AAT\"],\n",
    "    \"Q\": [\"CAA\", \"CAG\"],\n",
    "    \"E\": [\"GAA\", \"GAG\"],\n",
    "    \"G\": [\"GGA\", \"GGC\", \"GGT\", \"GGG\"],\n",
    "    \"*\": [\"TAA\", \"TAG\", \"TGA\"]\n",
    "    }\n",
    "    result = []\n",
    "    for i in range(len(peptide)):\n",
    "        result.append(aminoacids[peptide[i]])\n",
    "    result2 = list(map(lambda x: \"\".join(x), product(*result)))\n",
    "    return result2\n",
    "\n",
    "\n",
    "def reverse_complement(dna):\n",
    "    result = \"\"\n",
    "    for i in range(len(dna)):\n",
    "        if dna[i] == \"A\":\n",
    "            result += \"T\"\n",
    "        elif dna[i] == \"T\":\n",
    "            result += \"A\"\n",
    "        elif dna[i] == \"C\":\n",
    "            result += \"G\"\n",
    "        elif dna[i] == \"G\":\n",
    "            result += \"C\"\n",
    "    return result[::-1]\n",
    "\n",
    "\n",
    "def main(text, peptide):\n",
    "    result = reverse_translate(peptide)\n",
    "    result.extend(list(map(reverse_complement, result)))\n",
    "    final_result = []\n",
    "    for item in result:\n",
    "        n = text.count(item)\n",
    "        for i in range(n):\n",
    "            final_result.append(item)\n",
    "    # Print answer\n",
    "    for item in final_result:\n",
    "        print(item)\n",
    "    return final_result"
   ],
   "metadata": {
    "collapsed": false,
    "pycharm": {
     "name": "#%%\n"
    }
   }
  },
  {
   "cell_type": "markdown",
   "source": [
    "Generating Theoretical Spectrum Problem: Generate the theoretical spectrum of a cyclic peptide.\n",
    "\n",
    "Input: An amino acid string Peptide.<br>\n",
    "Output: Cyclospectrum(Peptide).<br>\n",
    "Code Challenge: Solve the Generating Theoretical Spectrum Problem.\n",
    "\n",
    "Note: An obvious approach for solving the Generating Theoretical Spectrum Problem would be to construct a list containing all subpeptides of Peptide, and then find the mass of each subpeptide by adding the integer masses of its constituent amino acids. This approach will work, but you may like to check out Charging Station: Generating the Theoretical Spectrum of a Peptide to see a more elegant algorithm that applies to both linear and cyclic peptides.\n",
    "\n",
    "Sample Input:\n",
    "\n",
    "    LEQN\n",
    "Sample Output:\n",
    "\n",
    "    0 113 114 128 129 227 242 242 257 355 356 370 371 484"
   ],
   "metadata": {
    "collapsed": false,
    "pycharm": {
     "name": "#%% md\n"
    }
   }
  },
  {
   "cell_type": "code",
   "execution_count": 5,
   "outputs": [],
   "source": [
    "def cyclospectrum(peptide):\n",
    "\n",
    "    def subpeptides(peptide):\n",
    "        l = len(peptide)\n",
    "        ls = []\n",
    "        looped = peptide + peptide\n",
    "        for start in range(0, l):\n",
    "            for length in range(1, l):\n",
    "                ls.append((looped[start:start + length]))\n",
    "        ls.append(peptide)\n",
    "        return ls\n",
    "\n",
    "    masses = {'A' : 71,\n",
    "          'R' : 156,\n",
    "          'N' : 114,\n",
    "          'D' : 115,\n",
    "          'C' : 103,\n",
    "          'E' : 129,\n",
    "          'Q' : 128,\n",
    "          'G' : 57,\n",
    "          'H' : 137,\n",
    "          'I' : 113,\n",
    "          'L' : 113,\n",
    "          'K' : 128,\n",
    "          'M' : 131,\n",
    "          'F' : 147,\n",
    "          'P' : 97,\n",
    "          'S' : 87,\n",
    "          'T' : 101,\n",
    "          'W' : 186,\n",
    "          'Y' : 163,\n",
    "          'V' : 99,\n",
    "          'X' : 0     #  for unknown amino acids\n",
    "          } # dictionary of amino acids 'aa' and their monoisotopic mass\n",
    "\n",
    "    subpeptides = subpeptides(peptide)\n",
    "    result = [0]\n",
    "    for item in subpeptides:\n",
    "        mass = 0\n",
    "        for aa in item:\n",
    "            mass += masses[aa]\n",
    "        result.append(mass)\n",
    "\n",
    "    final_result = str(sorted(result)).replace(\", \", \" \").strip(\"[]\")\n",
    "    return final_result"
   ],
   "metadata": {
    "collapsed": false,
    "pycharm": {
     "name": "#%%\n"
    }
   }
  },
  {
   "cell_type": "markdown",
   "source": [
    "Code Challenge: Implement LinearSpectrum.\n",
    "\n",
    "Input: An amino acid string Peptide.<br>\n",
    "Output: The linear spectrum of Peptide.\n",
    "\n",
    "Sample Input:\n",
    "\n",
    "    NQEL\n",
    "Sample Output:\n",
    "\n",
    "    0 113 114 128 129 242 242 257 370 371 484"
   ],
   "metadata": {
    "collapsed": false,
    "pycharm": {
     "name": "#%% md\n"
    }
   }
  },
  {
   "cell_type": "code",
   "execution_count": 4,
   "outputs": [],
   "source": [
    "def linear_spectrum(peptide):\n",
    "    masses = {'A' : 71,\n",
    "          'R' : 156,\n",
    "          'N' : 114,\n",
    "          'D' : 115,\n",
    "          'C' : 103,\n",
    "          'E' : 129,\n",
    "          'Q' : 128,\n",
    "          'G' : 57,\n",
    "          'H' : 137,\n",
    "          'I' : 113,\n",
    "          'L' : 113,\n",
    "          'K' : 128,\n",
    "          'M' : 131,\n",
    "          'F' : 147,\n",
    "          'P' : 97,\n",
    "          'S' : 87,\n",
    "          'T' : 101,\n",
    "          'W' : 186,\n",
    "          'Y' : 163,\n",
    "          'V' : 99,\n",
    "          'X' : 0     #  for unknown amino acids\n",
    "          } # dictionary of amino acids 'aa' and their monoisotopic mass\n",
    "    alphabet = masses.keys()\n",
    "    prefix_mass = [0]\n",
    "    for i in range(1, len(peptide) + 1):\n",
    "        for s in alphabet:\n",
    "            if s == peptide[i - 1]:\n",
    "                prefix_mass.append(prefix_mass[i - 1] + masses[s])\n",
    "    linear_spectrum = [0]\n",
    "    for i in range(0, len(peptide)):\n",
    "        for j in range(i + 1, len(peptide) + 1):\n",
    "            linear_spectrum.append(prefix_mass[j] - prefix_mass[i])\n",
    "    return sorted(linear_spectrum)\n"
   ],
   "metadata": {
    "collapsed": false,
    "pycharm": {
     "name": "#%%\n"
    }
   }
  }
 ],
 "metadata": {
  "kernelspec": {
   "display_name": "Python 3",
   "language": "python",
   "name": "python3"
  },
  "language_info": {
   "codemirror_mode": {
    "name": "ipython",
    "version": 2
   },
   "file_extension": ".py",
   "mimetype": "text/x-python",
   "name": "python",
   "nbconvert_exporter": "python",
   "pygments_lexer": "ipython2",
   "version": "2.7.6"
  }
 },
 "nbformat": 4,
 "nbformat_minor": 0
}