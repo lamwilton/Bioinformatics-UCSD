{
 "cells": [
  {
   "cell_type": "markdown",
   "source": [
    "Code Challenge: Solve the String Composition Problem.<br>\n",
    "Input: An integer k and a string Text.<br>\n",
    "Output: Compositionk(Text), where the k-mers are written in lexicographic order.\n",
    "\n",
    "Sample Input:\n",
    "\n",
    "    5\n",
    "    CAATCCAAC\n",
    "Sample Output:\n",
    "\n",
    "    AATCC\n",
    "    ATCCA\n",
    "    CAATC\n",
    "    CCAAC\n",
    "    TCCAA"
   ],
   "metadata": {
    "collapsed": false,
    "pycharm": {
     "name": "#%% md\n"
    }
   }
  },
  {
   "cell_type": "code",
   "execution_count": null,
   "outputs": [],
   "source": [
    "import sys # you must import \"sys\" to read from STDIN\n",
    "\n",
    "def composition(string, k):\n",
    "    result = []\n",
    "    for i in range(len(string) - k + 1):\n",
    "        result.append(string[i:i + k])\n",
    "    return sorted(result)\n",
    "\n",
    "\n",
    "if __name__ == '__main__':\n",
    "    lines = sys.stdin.read().splitlines()\n",
    "    string = lines[1]\n",
    "    k = int(lines[0])\n",
    "    result = composition(string, k)\n",
    "\n",
    "    for line in result:\n",
    "        print(line)"
   ],
   "metadata": {
    "collapsed": false,
    "pycharm": {
     "name": "#%%\n"
    }
   }
  },
  {
   "cell_type": "markdown",
   "source": [
    "Code Challenge: Solve the String Spelled by a Genome Path Problem.\n",
    "\n",
    "Sample Input:\n",
    "\n",
    "    ACCGA\n",
    "    CCGAA\n",
    "    CGAAG\n",
    "    GAAGC\n",
    "    AAGCT\n",
    "Sample Output:\n",
    "\n",
    "    ACCGAAGCT"
   ],
   "metadata": {
    "collapsed": false
   }
  },
  {
   "cell_type": "code",
   "execution_count": null,
   "outputs": [],
   "source": [
    "import sys\n",
    "\n",
    "def genome_path(dna):\n",
    "    result = dna[0]\n",
    "    for i in range(1, len(dna)):\n",
    "        result += dna[i][-1]\n",
    "    return result\n",
    "\n",
    "\n",
    "if __name__ == '__main__':\n",
    "    lines = sys.stdin.read().splitlines()\n",
    "    result = genome_path(lines)\n",
    "    print(result)"
   ],
   "metadata": {
    "collapsed": false,
    "pycharm": {
     "name": "#%%\n"
    }
   }
  },
  {
   "cell_type": "markdown",
   "source": [
    "Code Challenge: Solve the Overlap Graph Problem.<br>\n",
    "Input: A collection Patterns of k-mers.<br>\n",
    "Output: The overlap graph Overlap(Patterns), in the form of an adjacency list.\n",
    "\n",
    "Sample Input:\n",
    "\n",
    "    ATGCG\n",
    "    GCATG\n",
    "    CATGC\n",
    "    AGGCA\n",
    "    GGCAT\n",
    "Sample Output:\n",
    "\n",
    "    CATGC -> ATGCG\n",
    "    GCATG -> CATGC\n",
    "    AGGCA -> GGCAT\n",
    "    GGCAT -> GCATG"
   ],
   "metadata": {
    "collapsed": false,
    "pycharm": {
     "name": "#%% md\n"
    }
   }
  },
  {
   "cell_type": "code",
   "execution_count": null,
   "outputs": [],
   "source": [
    "import sys\n",
    "from collections import defaultdict\n",
    "\n",
    "def overlap_graph(dna):\n",
    "    result = defaultdict(list)\n",
    "    for i in range(len(dna)):\n",
    "        for j in range(len(dna)):\n",
    "            if dna[i][1:] == dna[j][:-1]:\n",
    "                result[dna[i]].append(dna[j])\n",
    "    return result\n",
    "\n",
    "\n",
    "if __name__ == '__main__':\n",
    "    lines = sys.stdin.read().splitlines()\n",
    "    result = overlap_graph(lines)\n",
    "    for item in result:\n",
    "        print(item + \" -> \" + str(result[item]).strip(\"['']\"))"
   ],
   "metadata": {
    "collapsed": false,
    "pycharm": {
     "name": "#%%\n"
    }
   }
  },
  {
   "cell_type": "markdown",
   "source": [
    "Code Challenge: Solve the De Bruijn Graph from a String Problem.<br>\n",
    "Input: An integer k and a string Text.<br>\n",
    "Output: DeBruijnk(Text), in the form of an adjacency list.\n",
    "\n",
    "Sample Input:\n",
    "\n",
    "    4\n",
    "    AAGATTCTCTAAGA\n",
    "Sample Output:\n",
    "\n",
    "    AAG -> AGA,AGA\n",
    "    AGA -> GAT\n",
    "    ATT -> TTC\n",
    "    CTA -> TAA\n",
    "    CTC -> TCT\n",
    "    GAT -> ATT\n",
    "    TAA -> AAG\n",
    "    TCT -> CTA,CTC\n",
    "    TTC -> TCT"
   ],
   "metadata": {
    "collapsed": false
   }
  },
  {
   "cell_type": "code",
   "execution_count": null,
   "outputs": [],
   "source": [
    "import sys\n",
    "from collections import defaultdict\n",
    "\n",
    "def de_brujin(k, text):\n",
    "    result = defaultdict(list)\n",
    "    for i in range(len(text) - k + 1):\n",
    "        edge = text[i:i + k]\n",
    "        result[edge[:-1]].append(edge[1:])\n",
    "    return result\n",
    "\n",
    "\n",
    "if __name__ == '__main__':\n",
    "    lines = sys.stdin.read().splitlines()\n",
    "    text = lines[1]\n",
    "    k = int(lines[0])\n",
    "    result = de_brujin(k, text)\n",
    "\n",
    "    for item in result:\n",
    "        print(item + \" -> \" + str(result[item]).replace(\" \", \"\").strip(\"[]\").replace(\"'\", \"\"))"
   ],
   "metadata": {
    "collapsed": false,
    "pycharm": {
     "name": "#%%\n"
    }
   }
  },
  {
   "cell_type": "markdown",
   "source": [
    "Code Challenge: Solve the de Bruijn Graph from k-mers Problem.<br>\n",
    "Input: A collection of k-mers Patterns.<br>\n",
    "Output: The adjacency list of the de Bruijn graph DeBruijn(Patterns).\n",
    "\n",
    "Sample Input:\n",
    "\n",
    "    GAGG\n",
    "    CAGG\n",
    "    GGGG\n",
    "    GGGA\n",
    "    CAGG\n",
    "    AGGG\n",
    "    GGAG\n",
    "Sample Output:\n",
    "\n",
    "    AGG -> GGG\n",
    "    CAG -> AGG,AGG\n",
    "    GAG -> AGG\n",
    "    GGA -> GAG\n",
    "    GGG -> GGA,GGG"
   ],
   "metadata": {
    "collapsed": false
   }
  },
  {
   "cell_type": "code",
   "execution_count": null,
   "outputs": [],
   "source": [
    "import sys\n",
    "from collections import defaultdict\n",
    "\n",
    "def de_brujin_kmers(kmers):\n",
    "    result = defaultdict(list)\n",
    "    for kmer in kmers:\n",
    "        result[kmer[:-1]].append(kmer[1:])\n",
    "    return result\n",
    "\n",
    "if __name__ == '__main__':\n",
    "    kmers = sys.stdin.read().splitlines()\n",
    "    result = de_brujin_kmers(kmers)\n",
    "    for item in result:\n",
    "        print(item + \" -> \" + str(result[item]).replace(\" \", \"\").strip(\"[]\").replace(\"'\", \"\"))\n"
   ],
   "metadata": {
    "collapsed": false,
    "pycharm": {
     "name": "#%%\n"
    }
   }
  }
 ],
 "metadata": {
  "kernelspec": {
   "display_name": "Python 3",
   "language": "python",
   "name": "python3"
  },
  "language_info": {
   "codemirror_mode": {
    "name": "ipython",
    "version": 2
   },
   "file_extension": ".py",
   "mimetype": "text/x-python",
   "name": "python",
   "nbconvert_exporter": "python",
   "pygments_lexer": "ipython2",
   "version": "2.7.6"
  }
 },
 "nbformat": 4,
 "nbformat_minor": 0
}