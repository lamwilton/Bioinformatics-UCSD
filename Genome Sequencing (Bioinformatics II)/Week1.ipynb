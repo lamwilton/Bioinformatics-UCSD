{
 "cells": [
  {
   "cell_type": "markdown",
   "source": [
    "Code Challenge: Solve the String Composition Problem.\n",
    "     Input: An integer k and a string Text.\n",
    "     Output: Compositionk(Text), where the k-mers are written in lexicographic order.\n",
    "\n",
    "Sample Input:\n",
    "\n",
    "    5\n",
    "    CAATCCAAC\n",
    "Sample Output:\n",
    "\n",
    "    AATCC\n",
    "    ATCCA\n",
    "    CAATC\n",
    "    CCAAC\n",
    "    TCCAA"
   ],
   "metadata": {
    "collapsed": false,
    "pycharm": {
     "name": "#%% md\n"
    }
   }
  },
  {
   "cell_type": "code",
   "execution_count": null,
   "outputs": [],
   "source": [
    "import sys # you must import \"sys\" to read from STDIN\n",
    "\n",
    "def composition(string, k):\n",
    "    result = []\n",
    "    for i in range(len(string) - k + 1):\n",
    "        result.append(string[i:i + k])\n",
    "    return sorted(result)\n",
    "\n",
    "if __name__ == '__main__':\n",
    "    lines = sys.stdin.read().splitlines()\n",
    "    string = lines[1]\n",
    "    k = int(lines[0])\n",
    "    result = composition(string, k)\n",
    "\n",
    "    for line in result:\n",
    "        print(line)\n"
   ],
   "metadata": {
    "collapsed": false,
    "pycharm": {
     "name": "#%%\n"
    }
   }
  }
 ],
 "metadata": {
  "kernelspec": {
   "display_name": "Python 3",
   "language": "python",
   "name": "python3"
  },
  "language_info": {
   "codemirror_mode": {
    "name": "ipython",
    "version": 2
   },
   "file_extension": ".py",
   "mimetype": "text/x-python",
   "name": "python",
   "nbconvert_exporter": "python",
   "pygments_lexer": "ipython2",
   "version": "2.7.6"
  }
 },
 "nbformat": 4,
 "nbformat_minor": 0
}