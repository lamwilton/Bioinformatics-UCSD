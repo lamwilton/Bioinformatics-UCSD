{
 "cells": [
  {
   "cell_type": "markdown",
   "source": [
    "Code Challenge: Solve the String Composition Problem.  \n",
    "Input: An integer k and a string Text.  \n",
    "Output: Compositionk(Text), where the k-mers are written in lexicographic order.\n",
    "\n",
    "Sample Input:\n",
    "\n",
    "    5\n",
    "    CAATCCAAC\n",
    "Sample Output:\n",
    "\n",
    "    AATCC\n",
    "    ATCCA\n",
    "    CAATC\n",
    "    CCAAC\n",
    "    TCCAA"
   ],
   "metadata": {
    "collapsed": false,
    "pycharm": {
     "name": "#%% md\n"
    }
   }
  },
  {
   "cell_type": "code",
   "execution_count": null,
   "outputs": [],
   "source": [
    "import sys # you must import \"sys\" to read from STDIN\n",
    "\n",
    "def composition(string, k):\n",
    "    result = []\n",
    "    for i in range(len(string) - k + 1):\n",
    "        result.append(string[i:i + k])\n",
    "    return sorted(result)\n",
    "\n",
    "if __name__ == '__main__':\n",
    "    lines = sys.stdin.read().splitlines()\n",
    "    string = lines[1]\n",
    "    k = int(lines[0])\n",
    "    result = composition(string, k)\n",
    "\n",
    "    for line in result:\n",
    "        print(line)"
   ],
   "metadata": {
    "collapsed": false,
    "pycharm": {
     "name": "#%%\n"
    }
   }
  },
  {
   "cell_type": "markdown",
   "source": [
    "Code Challenge: Solve the String Spelled by a Genome Path Problem.\n",
    "\n",
    "Sample Input:\n",
    "\n",
    "    ACCGA\n",
    "    CCGAA\n",
    "    CGAAG\n",
    "    GAAGC\n",
    "    AAGCT\n",
    "Sample Output:\n",
    "\n",
    "    ACCGAAGCT"
   ],
   "metadata": {
    "collapsed": false
   }
  },
  {
   "cell_type": "code",
   "execution_count": null,
   "outputs": [],
   "source": [
    "import sys\n",
    "\n",
    "def genome_path(dna):\n",
    "    result = dna[0]\n",
    "    for i in range(1, len(dna)):\n",
    "        result += dna[i][-1]\n",
    "    return result\n",
    "\n",
    "\n",
    "if __name__ == '__main__':\n",
    "    lines = sys.stdin.read().splitlines()\n",
    "    result = genome_path(lines)\n",
    "    print(result)"
   ],
   "metadata": {
    "collapsed": false,
    "pycharm": {
     "name": "#%%\n"
    }
   }
  },
  {
   "cell_type": "markdown",
   "source": [
    "Code Challenge: Solve the Overlap Graph Problem.\n",
    "     Input: A collection Patterns of k-mers.\n",
    "     Output: The overlap graph Overlap(Patterns), in the form of an adjacency list.\n",
    "\n",
    "Sample Input:\n",
    "\n",
    "    ATGCG\n",
    "    GCATG\n",
    "    CATGC\n",
    "    AGGCA\n",
    "    GGCAT\n",
    "Sample Output:\n",
    "\n",
    "    CATGC -> ATGCG\n",
    "    GCATG -> CATGC\n",
    "    AGGCA -> GGCAT\n",
    "    GGCAT -> GCATG"
   ],
   "metadata": {
    "collapsed": false,
    "pycharm": {
     "name": "#%% md\n"
    }
   }
  },
  {
   "cell_type": "code",
   "execution_count": null,
   "outputs": [],
   "source": [
    "import sys\n",
    "from collections import defaultdict\n",
    "\n",
    "def overlap_graph(dna):\n",
    "    result = defaultdict(list)\n",
    "    for i in range(len(dna)):\n",
    "        for j in range(len(dna)):\n",
    "            if dna[i][1:] == dna[j][:-1]:\n",
    "                result[dna[i]].append(dna[j])\n",
    "    return result\n",
    "\n",
    "\n",
    "if __name__ == '__main__':\n",
    "    lines = sys.stdin.read().splitlines()\n",
    "    result = overlap_graph(lines)\n",
    "    for item in result:\n",
    "        print(item + \" -> \" + str(result[item]).strip(\"['']\"))\n"
   ],
   "metadata": {
    "collapsed": false,
    "pycharm": {
     "name": "#%%\n"
    }
   }
  }
 ],
 "metadata": {
  "kernelspec": {
   "display_name": "Python 3",
   "language": "python",
   "name": "python3"
  },
  "language_info": {
   "codemirror_mode": {
    "name": "ipython",
    "version": 2
   },
   "file_extension": ".py",
   "mimetype": "text/x-python",
   "name": "python",
   "nbconvert_exporter": "python",
   "pygments_lexer": "ipython2",
   "version": "2.7.6"
  }
 },
 "nbformat": 4,
 "nbformat_minor": 0
}