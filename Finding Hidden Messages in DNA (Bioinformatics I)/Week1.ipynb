{
 "cells": [
  {
   "cell_type": "markdown",
   "metadata": {
    "collapsed": true,
    "pycharm": {
     "name": "#%% md\n"
    }
   },
   "source": [
    "Welcome to the code-graded problems for Chapter 1. These problems are optional and are a way for you to get some feedback on your code if your solution to the corresponding problem in the main text is graded incorrect.\n",
    "\n",
    "Code Challenge: Implement PatternCount (reproduced below).\n",
    "\n",
    "    Input: Strings Text and Pattern.\n",
    "    Output: Count(Text, Pattern).\n",
    "\n",
    "    PatternCount(Text, Pattern)\n",
    "        count ← 0\n",
    "        for i ← 0 to |Text| − |Pattern|\n",
    "            if Text(i, |Pattern|) = Pattern\n",
    "                count ← count + 1\n",
    "        return count\n",
    "Some notes on how code challenges work:\n",
    "\n",
    "Currently supported languages are C++, Go, Java, and Python.\n",
    "We ask you to write a function on each problem with the specified input and output.  Here, your function should be called PatternCount() and take strings Text and Pattern as input parameters (in that order).  If you need any subroutines, provide those as well.\n",
    "Behind the scenes, we grade your code on a collection of test datasets.  You either pass all the tests (congrats!) or we let you know the first test that your code failed on.  We provide a link to test datasets beneath each problem so that you can test your code before submitting your function.  We also provide a \"sample input and output\" so that you can see a single example of the correct answer for a given sample input.\n",
    "Make sure that when you write a function in the browser, you also save it to your computer since you may find it useful later.\n",
    "If you are still relatively new to programming, then we have written a collection of \"beginner's modules\" providing extra insight getting you up to speed in Python and showing you how to split larger problems into smaller ones.  If your code fails on the first attempt, then we will provide a link to a beginner module; this first problem's beginner module can be found here.  The beginner's modules are ungraded and separate from the main text.\n",
    "If your problem is graded incorrect but you don't get feedback on your code, please tell us what your mistake was so that we can improve the problem for future students. You can report your issue in the discussion forum at the bottom of the code challenge page.\n",
    "\n",
    "\n",
    "Sample Input:\n",
    "\n",
    "    GCGCG\n",
    "    GCG\n",
    "Sample Output:\n",
    "\n",
    "    2"
   ]
  },
  {
   "cell_type": "code",
   "execution_count": null,
   "outputs": [],
   "source": [
    "def PatternCount(Text, Pattern):\n",
    "    # fill in your function here\n",
    "    count = 0\n",
    "    for i in range(0, len(Text) - len(Pattern) + 1):\n",
    "        if Text[i:i + len(Pattern)] == Pattern:\n",
    "            count += 1\n",
    "    return count\n"
   ],
   "metadata": {
    "collapsed": false,
    "pycharm": {
     "name": "#%%\n"
    }
   }
  },
  {
   "cell_type": "markdown",
   "source": [
    "Code Challenge: Solve the Frequent Words Problem.\n",
    "     Input: A string Text and an integer k.\n",
    "     Output: All most frequent k-mers in Text.\n",
    "\n",
    "Sample Input:\n",
    "\n",
    "    ACGTTGCATGTCGCATGATGCATGAGAGCT\n",
    "    4\n",
    "Sample Output:\n",
    "\n",
    "    CATG GCAT"
   ],
   "metadata": {
    "collapsed": false,
    "pycharm": {
     "name": "#%% md\n"
    }
   }
  },
  {
   "cell_type": "code",
   "execution_count": null,
   "outputs": [],
   "source": [
    "# fill in your FrequentWords() function here along with any subroutines you need.\n",
    "def FrequentWords(Text, k):\n",
    "    FrequentPatterns = set()\n",
    "    Count = []\n",
    "    for i in range(0, len(Text) - k + 1):\n",
    "        Pattern = Text[i:i + k]\n",
    "        Count.append(PatternCount(Text, Pattern))\n",
    "    maxCount = max(Count)\n",
    "    for i in range(0, len(Text) - k + 1):\n",
    "        if Count[i] == maxCount:\n",
    "            FrequentPatterns.add(Text[i:i + k])\n",
    "    return FrequentPatterns\n",
    "\n",
    "def PatternCount(Text, Pattern):\n",
    "    # fill in your function here\n",
    "    count = 0\n",
    "    for i in range(0, len(Text) - len(Pattern) + 1):\n",
    "        if Text[i:i + len(Pattern)] == Pattern:\n",
    "            count += 1\n",
    "    return count"
   ],
   "metadata": {
    "collapsed": false,
    "pycharm": {
     "name": "#%%\n"
    }
   }
  },
  {
   "cell_type": "markdown",
   "source": [
    "Reverse Complement Problem: Find the reverse complement of a DNA string.\n",
    "     Input: A DNA string Pattern.\n",
    "     Output: \\overline{Pattern}Pattern, the reverse complement of Pattern.\n",
    "\n",
    "Code Challenge: Solve the Reverse Complement Problem.\n",
    "\n",
    "Sample Input:\n",
    "\n",
    "    AAAACCCGGT\n",
    "Sample Output:\n",
    "\n",
    "    ACCGGGTTTT"
   ],
   "metadata": {
    "collapsed": false,
    "pycharm": {
     "name": "#%% md\n"
    }
   }
  },
  {
   "cell_type": "code",
   "source": [
    "# fill in your ReverseComplement() function here along with any subroutines that you need.\n",
    "def ReverseComplement(Pattern):\n",
    "    result = \"\"\n",
    "    for i in reversed(range(0, len(Pattern))):\n",
    "        if Pattern[i] == \"A\":\n",
    "            result += \"T\"\n",
    "        elif Pattern[i] == \"T\":\n",
    "            result += \"A\"\n",
    "        elif Pattern[i] == \"C\":\n",
    "            result += \"G\"\n",
    "        elif Pattern[i] == \"G\":\n",
    "            result += \"C\"\n",
    "    return result\n",
    "\n"
   ],
   "metadata": {
    "collapsed": false,
    "pycharm": {
     "name": "#%%\n"
    }
   },
   "execution_count": null,
   "outputs": []
  }
 ],
 "metadata": {
  "kernelspec": {
   "display_name": "Python 3",
   "language": "python",
   "name": "python3"
  },
  "language_info": {
   "codemirror_mode": {
    "name": "ipython",
    "version": 2
   },
   "file_extension": ".py",
   "mimetype": "text/x-python",
   "name": "python",
   "nbconvert_exporter": "python",
   "pygments_lexer": "ipython2",
   "version": "2.7.6"
  }
 },
 "nbformat": 4,
 "nbformat_minor": 0
}