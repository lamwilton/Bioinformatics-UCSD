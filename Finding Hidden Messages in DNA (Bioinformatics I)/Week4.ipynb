{
 "cells": [
  {
   "cell_type": "markdown",
   "metadata": {
    "collapsed": true,
    "pycharm": {
     "name": "#%% md\n"
    }
   },
   "source": [
    "Code Challenge: Implement RandomizedMotifSearch.\n",
    "     Input: Integers k and t, followed by a collection of strings Dna.\n",
    "     Output: A collection BestMotifs resulting from running RandomizedMotifSearch(Dna, k, t) 1,000\n",
    "     times. Remember to use pseudocounts!\n",
    "\n",
    "Sample Input:\n",
    "\n",
    "    8 5\n",
    "    CGCCCCTCTCGGGGGTGTTCAGTAAACGGCCA\n",
    "    GGGCGAGGTATGTGTAAGTGCCAAGGTGCCAG\n",
    "    TAGTACCGAGACCGAAAGAAGTATACAGGCGT\n",
    "    TAGATCAAGTTTCAGGTGCACGTCGGTGAACC\n",
    "    AATCCACCAGCTCCACGTGCAATGTTGGCCTA\n",
    "Sample Output:\n",
    "\n",
    "    TCTCGGGG\n",
    "    CCAAGGTG\n",
    "    TACAGGCG\n",
    "    TTCAGGTG\n",
    "    TCCACGTG"
   ]
  },
  {
   "cell_type": "code",
   "execution_count": null,
   "outputs": [],
   "source": [
    "import random\n",
    "from collections import Counter, defaultdict\n",
    "\n",
    "def random_motifs(Dna, k):\n",
    "    result = []\n",
    "    for string in Dna:\n",
    "        index = random.randint(0, len(string) - k)\n",
    "        result.append(string[index:index + k])\n",
    "    return result\n",
    "\n",
    "\n",
    "def profile_helper(motifs):\n",
    "    t = max(len(motifs), 1)  # Prevent division by zero\n",
    "    result = defaultdict(list)\n",
    "    for i in range(len(motifs[0])):\n",
    "        count = Counter([motifs[j][i] for j in range(t)])\n",
    "        for base in [\"A\", \"C\", \"G\", \"T\"]:\n",
    "            result[base].append(count[base] / t)\n",
    "    return result\n",
    "\n",
    "\n",
    "def ProfileMostProbableKmer(text, k, profile):\n",
    "    max_prob = 0\n",
    "    best_result = \"\"\n",
    "    for i in range(len(text) - k + 1):\n",
    "        prob = 0\n",
    "        for j in range(k):\n",
    "            prob += profile[text[i + j]][j]\n",
    "        if prob >= max_prob:\n",
    "            best_result = text[i:i + k]\n",
    "            max_prob = prob\n",
    "    return best_result\n",
    "\n",
    "\n",
    "def motifs_helper(profile, Dna, k):\n",
    "    result = []\n",
    "    for string in Dna:\n",
    "        result.append(ProfileMostProbableKmer(string, k, profile))\n",
    "    return result\n",
    "\n",
    "\n",
    "def score(motifs):\n",
    "    result = 0\n",
    "    t = len(motifs)\n",
    "    for i in range(len(motifs[0])):\n",
    "        count = Counter([motifs[j][i] for j in range(t)])\n",
    "        result += t - max(count.values())\n",
    "    return result\n",
    "\n",
    "\n",
    "def RandomizedMotifSearch(Dna, k, t):\n",
    "    motifs = random_motifs(Dna, k)\n",
    "    best_motifs = motifs\n",
    "    while True:\n",
    "        profile = profile_helper(motifs)\n",
    "        motifs = motifs_helper(profile, Dna, k)\n",
    "        if score(motifs) < score(best_motifs):\n",
    "            best_motifs = motifs\n",
    "        else:\n",
    "            return best_motifs\n",
    "\n",
    "\n",
    "# code change by NARAYANA SAIBABA K.V\n",
    "if __name__ == \"__main__\":\n",
    "    k,t = [int(a) for a in input().strip().split(\" \")]\n",
    "    Dna = []\n",
    "    for _ in range(t):\n",
    "        Dna.append(input())\n",
    "\n",
    "    N = 250\n",
    "    BestMotifs = RandomizedMotifSearch(Dna, k, t)\n",
    "    for i in range(N):\n",
    "        m = RandomizedMotifSearch(Dna, k, t)\n",
    "        if score(m) < score(BestMotifs):\n",
    "            BestMotifs = m\n",
    "\n",
    "    for i in BestMotifs:\n",
    "        print(i)\n"
   ],
   "metadata": {
    "collapsed": false,
    "pycharm": {
     "name": "#%%\n"
    }
   }
  }
 ],
 "metadata": {
  "kernelspec": {
   "display_name": "Python 3",
   "language": "python",
   "name": "python3"
  },
  "language_info": {
   "codemirror_mode": {
    "name": "ipython",
    "version": 2
   },
   "file_extension": ".py",
   "mimetype": "text/x-python",
   "name": "python",
   "nbconvert_exporter": "python",
   "pygments_lexer": "ipython2",
   "version": "2.7.6"
  }
 },
 "nbformat": 4,
 "nbformat_minor": 0
}