{
 "cells": [
  {
   "cell_type": "markdown",
   "metadata": {
    "collapsed": true,
    "pycharm": {
     "name": "#%% md\n"
    }
   },
   "source": [
    "Minimum Skew Problem: Find a position in a genome minimizing the skew.\n",
    "Input: A DNA string Genome.\n",
    "Output: All integer(s) i minimizing Skewi (Genome) among all values of i (from 0 to |Genome|).\n",
    "\n",
    "Code Challenge: Solve the Minimum Skew Problem.\n",
    "\n",
    "Sample Input:\n",
    "\n",
    "    TAAAGACTGCCGAGAGGCCAACACGAGTGCTAGAACGAGGGGCGTAAACGCGGGTCCGAT\n",
    "Sample Output:\n",
    "\n",
    "    11 24"
   ]
  },
  {
   "cell_type": "code",
   "execution_count": null,
   "outputs": [],
   "source": [
    "# Place your MinimumSkew() function here along with any subroutines you need.\n",
    "# MinimumSkew() should return a list.\n",
    "def MinimumSkew(Genome):\n",
    "    result = []\n",
    "    minSkew = 0\n",
    "    skew = 0\n",
    "    for i in range(0, len(Genome)):\n",
    "        if Genome[i] == \"C\":\n",
    "            skew -= 1\n",
    "        elif Genome[i] == \"G\":\n",
    "            skew += 1\n",
    "        if minSkew > skew:\n",
    "            minSkew = skew\n",
    "            result = [i + 1]\n",
    "        elif minSkew == skew:\n",
    "            result.append(i + 1)\n",
    "    return result"
   ],
   "metadata": {
    "collapsed": false,
    "pycharm": {
     "name": "#%%\n"
    }
   }
  },
  {
   "cell_type": "markdown",
   "source": [
    "Hamming Distance Problem: Compute the Hamming distance between two strings.\n",
    "Input: Two strings of equal length.\n",
    "Output: The Hamming distance between these strings.\n",
    "\n",
    "Code Challenge: Solve the Hamming Distance Problem.\n",
    "\n",
    "Sample Input:\n",
    "\n",
    "    GGGCCGTTGGT\n",
    "    GGACCGTTGAC\n",
    "Sample Output:\n",
    "\n",
    "    3"
   ],
   "metadata": {
    "collapsed": false
   }
  },
  {
   "cell_type": "code",
   "execution_count": null,
   "outputs": [],
   "source": [
    "# Input:  Two strings p and q\n",
    "# Output: An integer value representing the Hamming Distance between p and q.\n",
    "def HammingDistance(p, q):\n",
    "    # your code here\n",
    "    result = 0\n",
    "    for i in range(len(p)):\n",
    "        if p[i] != q[i]:\n",
    "            result += 1\n",
    "    return result"
   ],
   "metadata": {
    "collapsed": false,
    "pycharm": {
     "name": "#%%\n"
    }
   }
  },
  {
   "cell_type": "markdown",
   "source": [
    "Approximate Pattern Matching Problem: Find all approximate occurrences of a pattern in a string.\n",
    "     Input: Strings Pattern and Text along with an integer d.\n",
    "     Output: All starting positions where Pattern appears as a substring of Text with at most d mismatches.\n",
    "\n",
    "Code Challenge: Solve the Approximate Pattern Matching Problem.\n",
    "\n",
    "Sample Input:\n",
    "\n",
    "    ATTCTGGA\n",
    "    CGCCCGAATCCAGAACGCATTCCCATATTTCGGGACCACTGGCCTCCACGGTACGGACGTCAATCAAAT\n",
    "    3\n",
    "Sample Output:\n",
    "\n",
    "    6 7 26 27"
   ],
   "metadata": {
    "collapsed": false
   }
  },
  {
   "cell_type": "code",
   "execution_count": null,
   "outputs": [],
   "source": [
    "def ApproximatePatternMatching(Text, Pattern, d):\n",
    "    positions = [] # initializing list of positions\n",
    "    # your code here\n",
    "    for i in range(len(Text) - len(Pattern) + 1):\n",
    "        if HammingDistance(Text[i:i + len(Pattern)], Pattern) <= d:\n",
    "            positions.append(i)\n",
    "    return positions\n",
    "\n",
    "\n",
    "# Insert your Hamming distance function on the following line.\n",
    "\n",
    "def HammingDistance(p, q):\n",
    "    # your code here\n",
    "    result = 0\n",
    "    for i in range(len(p)):\n",
    "        if p[i] != q[i]:\n",
    "            result += 1\n",
    "    return result"
   ],
   "metadata": {
    "collapsed": false,
    "pycharm": {
     "name": "#%%\n"
    }
   }
  },
  {
   "cell_type": "markdown",
   "source": [
    "Code Challenge: Implement ApproximatePatternCount.\n",
    "     Input: Strings Text and Pattern as well as an integer d.\n",
    "     Output: Countd(Text, Pattern).\n",
    "\n",
    "Return to Main Text\n",
    "\n",
    "Sample Input:\n",
    "\n",
    "    GAGG\n",
    "    TTTAGAGCCTTCAGAGG\n",
    "    2\n",
    "Sample Output:\n",
    "\n",
    "    4"
   ],
   "metadata": {
    "collapsed": false
   }
  },
  {
   "cell_type": "code",
   "execution_count": null,
   "outputs": [],
   "source": [
    "# Input:  Strings Pattern and Text, and an integer d\n",
    "# Output: The number of times Pattern appears in Text with at most d mismatches\n",
    "def ApproximatePatternCount(Text, Pattern, d):\n",
    "    count = 0 # initialize count variable\n",
    "    for i in range(len(Text) - len(Pattern) + 1):\n",
    "        if HammingDistance(Text[i:i + len(Pattern)], Pattern) <= d:\n",
    "            count += 1\n",
    "    return count\n",
    "\n",
    "\n",
    "# Insert your HammingDistance function on the following line.\n",
    "\n",
    "def HammingDistance(p, q):\n",
    "    result = 0\n",
    "    for i in range(len(p)):\n",
    "        if p[i] != q[i]:\n",
    "            result += 1\n",
    "    return result"
   ],
   "metadata": {
    "collapsed": false,
    "pycharm": {
     "name": "#%%\n"
    }
   }
  },
  {
   "cell_type": "markdown",
   "source": [
    "Frequent Words with Mismatches Problem: Find the most frequent k-mers with mismatches in a string.\n",
    "     Input: A string Text as well as integers k and d. (You may assume k ≤ 12 and d ≤ 3.)\n",
    "     Output: All most frequent k-mers with up to d mismatches in Text.\n",
    "\n",
    "Code Challenge: Solve the Frequent Words with Mismatches Problem.\n",
    "\n",
    "Sample Input:\n",
    "\n",
    "    ACGTTGCATGTCGCATGATGCATGAGAGCT\n",
    "    4 1\n",
    "Sample Output:\n",
    "\n",
    "    ATGC ATGT GATG"
   ],
   "metadata": {
    "collapsed": false,
    "pycharm": {
     "name": "#%% md\n"
    }
   }
  },
  {
   "cell_type": "code",
   "execution_count": null,
   "outputs": [],
   "source": [
    "# Write your FrequentWordsWithMismatches() function here, along with any subroutines you need.\n",
    "# Your function should return a list.\n",
    "def FrequentWordsWithMismatches(Text, k, d):\n",
    "    FrequentPatterns = set()\n",
    "    Neighborhoods = []\n",
    "    for i in range(len(Text) - k + 1):\n",
    "        Neighborhoods.extend(list(Neighbors(Text[i: i + k], d)))\n",
    "    NeighborhoodArray = Neighborhoods\n",
    "    Index = []\n",
    "    Count = []\n",
    "    for i in range(len(Neighborhoods)):\n",
    "        Pattern = NeighborhoodArray[i]\n",
    "        Index.append(PatternToNumber(Pattern))\n",
    "        Count.append(1)\n",
    "    SortedIndex = sorted(Index)\n",
    "    for i in range(len(Neighborhoods) - 1):\n",
    "        if SortedIndex[i] == SortedIndex[i + 1]:\n",
    "            Count[i + 1] = Count[i] + 1\n",
    "    maxCount = max(Count)\n",
    "    for i in range(len(Neighborhoods)):\n",
    "        if Count[i] == maxCount:\n",
    "            Pattern = NumberToPattern(SortedIndex[i], k)\n",
    "            FrequentPatterns.add(Pattern)\n",
    "    return FrequentPatterns\n",
    "\n",
    "\n",
    "# Insert your HammingDistance function on the following line.\n",
    "\n",
    "\n",
    "def Neighbors(Pattern, d):\n",
    "    if d == 0:\n",
    "        return {Pattern}\n",
    "    if len(Pattern) == 1:\n",
    "        return {\"A\", \"C\", \"G\", \"T\"}\n",
    "    Neighborhood = set()\n",
    "    SuffixNeighbors = Neighbors(Pattern[1:], d)\n",
    "    for Text in SuffixNeighbors:\n",
    "        if HammingDistance(Pattern[1:], Text) < d:\n",
    "            for x in [\"A\", \"C\", \"T\", \"G\"]:\n",
    "                Neighborhood.add(x + Text)\n",
    "        else:\n",
    "            Neighborhood.add(Pattern[0] + Text)\n",
    "    return Neighborhood\n",
    "\n",
    "def HammingDistance(p, q):\n",
    "    result = 0\n",
    "    for i in range(len(p)):\n",
    "        if p[i] != q[i]:\n",
    "            result += 1\n",
    "    return result\n",
    "\n",
    "def PatternToNumber(pattern):\n",
    "    if pattern == \"\":\n",
    "        return 0\n",
    "    symbol = pattern[-1]\n",
    "    Prefix = pattern[:-1]\n",
    "    return 4 * PatternToNumber(Prefix) + SymbolToNumber(symbol)\n",
    "\n",
    "def SymbolToNumber(symbol):\n",
    "    if symbol == \"A\":\n",
    "        return 0\n",
    "    elif symbol == \"C\":\n",
    "        return 1\n",
    "    elif symbol == \"G\":\n",
    "        return 2\n",
    "    else:\n",
    "        return 3\n",
    "\n",
    "def NumberToPattern(index, k):\n",
    "    if k == 1:\n",
    "        return NumberToSymbol(index)\n",
    "    prefixIndex = index // 4\n",
    "    r = index % 4\n",
    "    symbol = NumberToSymbol(r)\n",
    "    PrefixPattern = NumberToPattern(prefixIndex, k - 1)\n",
    "    return PrefixPattern + symbol\n",
    "\n",
    "def NumberToSymbol(index):\n",
    "    if index == 0:\n",
    "        return \"A\"\n",
    "    if index == 1:\n",
    "        return \"C\"\n",
    "    if index == 2:\n",
    "        return \"G\"\n",
    "    if index == 3:\n",
    "        return \"T\""
   ],
   "metadata": {
    "collapsed": false,
    "pycharm": {
     "name": "#%%\n"
    }
   }
  },
  {
   "cell_type": "markdown",
   "source": [
    "Code Challenge: Implement ﻿Neighbors to find the d-neighborhood of a string.\n",
    "     Input: A string Pattern and an integer d.\n",
    "     Output: The collection of strings Neighbors(Pattern, d).\n",
    "\n",
    "Sample Input:\n",
    "\n",
    "    ACG\n",
    "    1\n",
    "Sample Output:\n",
    "\n",
    "    AAG\n",
    "    ACG\n",
    "    CCG\n",
    "    AGG\n",
    "    ACT\n",
    "    GCG\n",
    "    ATG\n",
    "    ACC\n",
    "    TCG\n",
    "    ACA"
   ],
   "metadata": {
    "collapsed": false
   }
  },
  {
   "cell_type": "code",
   "execution_count": null,
   "outputs": [],
   "source": [
    "# Place your Neighbors() function here, along with any subroutines you need.\n",
    "# Neighbors() should return a list.\n",
    "\n",
    "def Neighbors(Pattern, d):\n",
    "    if d == 0:\n",
    "        return {Pattern}\n",
    "    if len(Pattern) == 1:\n",
    "        return {\"A\", \"C\", \"G\", \"T\"}\n",
    "    Neighborhood = set()\n",
    "    SuffixNeighbors = Neighbors(Pattern[1:], d)\n",
    "    for Text in SuffixNeighbors:\n",
    "        if HammingDistance(Pattern[1:], Text) < d:\n",
    "            for x in [\"A\", \"C\", \"T\", \"G\"]:\n",
    "                Neighborhood.add(x + Text)\n",
    "        else:\n",
    "            Neighborhood.add(Pattern[0] + Text)\n",
    "    return Neighborhood\n",
    "\n",
    "def HammingDistance(p, q):\n",
    "    result = 0\n",
    "    for i in range(len(p)):\n",
    "        if p[i] != q[i]:\n",
    "            result += 1\n",
    "    return result\n"
   ],
   "metadata": {
    "collapsed": false,
    "pycharm": {
     "name": "#%%\n"
    }
   }
  }
 ],
 "metadata": {
  "kernelspec": {
   "display_name": "Python 3",
   "language": "python",
   "name": "python3"
  },
  "language_info": {
   "codemirror_mode": {
    "name": "ipython",
    "version": 2
   },
   "file_extension": ".py",
   "mimetype": "text/x-python",
   "name": "python",
   "nbconvert_exporter": "python",
   "pygments_lexer": "ipython2",
   "version": "2.7.6"
  }
 },
 "nbformat": 4,
 "nbformat_minor": 0
}