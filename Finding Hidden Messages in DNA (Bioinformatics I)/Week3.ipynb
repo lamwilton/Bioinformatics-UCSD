{
 "cells": [
  {
   "cell_type": "markdown",
   "source": [
    "Code Challenge: Implement MotifEnumeration (reproduced below).\n",
    "     Input: Integers k and d, followed by a collection of strings Dna.\n",
    "     Output: All (k, d)-motifs in Dna.\n",
    "\n",
    "\n",
    "    MotifEnumeration(Dna, k, d)\n",
    "        Patterns ← an empty set\n",
    "        for each k-mer Pattern in Dna\n",
    "            for each k-mer Pattern’ differing from Pattern by at most d mismatches\n",
    "                if Pattern' appears in each string from Dna with at most d mismatches\n",
    "                    add Pattern' to Patterns\n",
    "        remove duplicates from Patterns\n",
    "        return Patterns\n",
    "\n",
    "Sample Input:\n",
    "\n",
    "    3 1\n",
    "    ATTTGGC\n",
    "    TGCCTTA\n",
    "    CGGTATC\n",
    "    GAAAATT\n",
    "Sample Output:\n",
    "\n",
    "    ATA ATT GTT TTT"
   ],
   "metadata": {
    "collapsed": false,
    "pycharm": {
     "name": "#%% md\n"
    }
   }
  },
  {
   "cell_type": "code",
   "execution_count": null,
   "outputs": [],
   "source": [
    "# Write your MotifEnumeration() function here along with any subroutines you need.\n",
    "# This function should return a list of strings.\n",
    "def MotifEnumeration(dna, k, d):\n",
    "    Patterns = set()\n",
    "    kmer = []\n",
    "    for i in range(len(dna[0]) - k + 1):\n",
    "        kmer.append(dna[0][i:i + k])\n",
    "    for pattern in kmer:\n",
    "        neighbors = Neighbors(pattern, d)\n",
    "        for pattern2 in neighbors:\n",
    "            if checkSubstring(dna, pattern2, d):\n",
    "                Patterns.add(pattern2)\n",
    "    return list(Patterns)\n",
    "\n",
    "\n",
    "def checkSubstring(dna, pattern2, d):\n",
    "    for i in range(1, len(dna)):\n",
    "        if not checkdnaString(dna[i], pattern2, d):\n",
    "            return False\n",
    "    return True\n",
    "\n",
    "\n",
    "def checkdnaString(dnastring, pattern2, d):\n",
    "    for j in range(len(dnastring) - len(pattern2) + 1):\n",
    "        if HammingDistance(pattern2, dnastring[j:j + len(pattern2)]) <= d:\n",
    "            return True\n",
    "    return False\n",
    "\n",
    "\n",
    "def Neighbors(Pattern, d):\n",
    "    if d == 0:\n",
    "        return {Pattern}\n",
    "    if len(Pattern) == 1:\n",
    "        return {\"A\", \"C\", \"G\", \"T\"}\n",
    "    Neighborhood = set()\n",
    "    SuffixNeighbors = Neighbors(Pattern[1:], d)\n",
    "    for Text in SuffixNeighbors:\n",
    "        if HammingDistance(Pattern[1:], Text) < d:\n",
    "            for x in [\"A\", \"C\", \"T\", \"G\"]:\n",
    "                Neighborhood.add(x + Text)\n",
    "        else:\n",
    "            Neighborhood.add(Pattern[0] + Text)\n",
    "    return Neighborhood\n",
    "\n",
    "\n",
    "def HammingDistance(p, q):\n",
    "    result = 0\n",
    "    for i in range(len(p)):\n",
    "        if p[i] != q[i]:\n",
    "            result += 1\n",
    "    return result"
   ],
   "metadata": {
    "collapsed": false,
    "pycharm": {
     "name": "#%%\n"
    }
   }
  },
  {
   "cell_type": "markdown",
   "source": [
    "Code Challenge: Implement MedianString.\n",
    "     Input: An integer k, followed by a collection of strings Dna.\n",
    "     Output: A k-mer Pattern that minimizes d(Pattern, Dna) among all k-mers Pattern. (If there are multiple such strings Pattern,\n",
    "     then you may return any one.)\n",
    "\n",
    "Sample Input:\n",
    "\n",
    "    3\n",
    "    AAATTGACGCAT\n",
    "    GACGACCACGTT\n",
    "    CGTCAGCGCCTG\n",
    "    GCTGAGCACCGG\n",
    "    AGTACGGGACAG\n",
    "Sample Output:\n",
    "\n",
    "    ACG"
   ],
   "metadata": {
    "collapsed": false,
    "pycharm": {
     "name": "#%% md\n"
    }
   }
  },
  {
   "cell_type": "code",
   "execution_count": 21,
   "outputs": [],
   "source": [
    "# Write your MedianString() function here, along with any subroutines that you need.\n",
    "# You should return your answer as a string.\n",
    "def MedianString(dna, k):\n",
    "    distance = 2 ** 31\n",
    "    kmer = generate_kmer(k)\n",
    "    for pattern in kmer:\n",
    "        temp = DistanceBetweenPatternAndStrings(pattern, dna)\n",
    "        if distance > temp:\n",
    "            distance = temp\n",
    "            median = pattern\n",
    "    return median\n",
    "\n",
    "\n",
    "def generate_kmer(k):\n",
    "    result = [\"A\", \"C\", \"G\", \"T\"]\n",
    "    for i in range(1, k):\n",
    "        result2 = []\n",
    "        for kmer in result:\n",
    "            result2.append(kmer + \"A\")\n",
    "            result2.append(kmer + \"C\")\n",
    "            result2.append(kmer + \"G\")\n",
    "            result2.append(kmer + \"T\")\n",
    "        result = result2\n",
    "    return result\n",
    "\n",
    "\n",
    "def DistanceBetweenPatternAndStrings(pattern, dna):\n",
    "    k = len(pattern)\n",
    "    distance = 0\n",
    "    for Text in dna:\n",
    "        hammingDistance = 2 ** 31\n",
    "        for i in range(0, len(Text) - k + 1):\n",
    "            if hammingDistance > HammingDistance(pattern, Text[i:i+k]):\n",
    "                hammingDistance = HammingDistance(pattern, Text[i:i+k])\n",
    "        distance = distance + hammingDistance\n",
    "    return distance\n",
    "\n",
    "\n",
    "def HammingDistance(p, q):\n",
    "    result = 0\n",
    "    for i in range(len(p)):\n",
    "        if p[i] != q[i]:\n",
    "            result += 1\n",
    "    return result"
   ],
   "metadata": {
    "collapsed": false,
    "pycharm": {
     "name": "#%%\n"
    }
   }
  },
  {
   "cell_type": "markdown",
   "metadata": {
    "collapsed": true,
    "pycharm": {
     "name": "#%% md\n"
    }
   },
   "source": [
    "Profile-most Probable k-mer Problem: Find a Profile-most probable k-mer in a string.\n",
    "     Input: A string Text, an integer k, and a 4 × k matrix Profile.\n",
    "     Output: A Profile-most probable k-mer in Text.\n",
    "\n",
    "Code Challenge: Solve the Profile-most Probable k-mer Problem.\n",
    "\n",
    "Sample Input:\n",
    "\n",
    "    ACCTGTTTATTGCCTAAGTTCCGAACAAACCCAATATAGCCCGAGGGCCT\n",
    "    5\n",
    "    0.2 0.2 0.3 0.2 0.3\n",
    "    0.4 0.3 0.1 0.5 0.1\n",
    "    0.3 0.3 0.5 0.2 0.4\n",
    "    0.1 0.2 0.1 0.1 0.2\n",
    "Sample Output:\n",
    "\n",
    "    CCGAG"
   ]
  },
  {
   "cell_type": "code",
   "execution_count": null,
   "outputs": [],
   "source": [
    "# Write your ProfileMostProbableKmer() function here along with any subroutines you need.\n",
    "# The profile matrix assumes that the first row corresponds to A, the second corresponds to C,\n",
    "# the third corresponds to G, and the fourth corresponds to T.\n",
    "# You should represent the profile matrix as a dictionary whose keys are 'A', 'C', 'G', and 'T' and whose values are lists of floats\n",
    "def ProfileMostProbableKmer(text, k, profile):\n",
    "    max_prob = 0\n",
    "    best_result = \"\"\n",
    "    for i in range(len(text) - k + 1):\n",
    "        prob = 0\n",
    "        for j in range(k):\n",
    "            prob += profile[text[i + j]][j]\n",
    "        if prob >= max_prob:\n",
    "            best_result = text[i:i + k]\n",
    "            max_prob = prob\n",
    "    return best_result"
   ],
   "metadata": {
    "collapsed": false,
    "pycharm": {
     "name": "#%%\n"
    }
   }
  }
 ],
 "metadata": {
  "kernelspec": {
   "display_name": "Python 3",
   "language": "python",
   "name": "python3"
  },
  "language_info": {
   "codemirror_mode": {
    "name": "ipython",
    "version": 2
   },
   "file_extension": ".py",
   "mimetype": "text/x-python",
   "name": "python",
   "nbconvert_exporter": "python",
   "pygments_lexer": "ipython2",
   "version": "2.7.6"
  }
 },
 "nbformat": 4,
 "nbformat_minor": 0
}